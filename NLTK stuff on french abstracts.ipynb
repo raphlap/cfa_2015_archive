{
 "metadata": {
  "name": "",
  "signature": "sha256:32d52134220ab9180e4fbe01c67559dff10936d8aa62946c5cde93c3301ee1d5"
 },
 "nbformat": 3,
 "nbformat_minor": 0,
 "worksheets": [
  {
   "cells": [
    {
     "cell_type": "code",
     "collapsed": false,
     "input": [
      "import nltk\n",
      "from nltk import *\n",
      "from nltk.corpus import PlaintextCorpusReader\n",
      "corpus_root = 'C:/Users/raphaelle/Documents/Learning/NLTK text'\n",
      "wordlists = PlaintextCorpusReader(corpus_root, '.*')"
     ],
     "language": "python",
     "metadata": {},
     "outputs": [],
     "prompt_number": 1
    },
    {
     "cell_type": "code",
     "collapsed": false,
     "input": [
      "stop = nltk.corpus.stopwords.words('english')\n",
      "abst_fr = wordlists.words('abstracts_fr.txt')\n",
      "fr_abst_without_stopwords = [i for i in abst_fr if i not in stop]\n",
      "frdist_fr = FreqDist(fr_abst_without_stopwords)"
     ],
     "language": "python",
     "metadata": {},
     "outputs": [],
     "prompt_number": 13
    },
    {
     "cell_type": "code",
     "collapsed": false,
     "input": [
      "from nltk.collocations import *\n",
      "bigram_measures = nltk.collocations.BigramAssocMeasures()\n",
      "text = nltk.Text(abst_fr)\n",
      "text.collocations()"
     ],
     "language": "python",
     "metadata": {},
     "outputs": [
      {
       "output_type": "stream",
       "stream": "stdout",
       "text": [
        "http ://; :// www; :// cdsarc; star formation; >+</ SUP; SUP >+</;\n",
        "magnetic field; electronic form; black hole; rate coefficients; per\n",
        "cent; dark matter; power spectrum; radiative transfer; angular\n",
        "momentum; Milky Way; magnetic fields; molecular gas; anonymous ftp;\n",
        "CDS via\n"
       ]
      }
     ],
     "prompt_number": 9
    },
    {
     "cell_type": "code",
     "collapsed": false,
     "input": [
      "from collections import Counter\n",
      "porter = nltk.PorterStemmer()\n",
      "text_stemmed = [porter.stem(t).lower() for t in fr_abst_without_stopwords if len(t)>7 and frdist_fr[t] > 7 and t.isalpha()]\n",
      "c = Counter(text_stemmed)\n",
      "count_txt_ste = Text(text_stemmed)\n",
      "count_txt_ste.collocations()"
     ],
     "language": "python",
     "metadata": {},
     "outputs": [
      {
       "output_type": "stream",
       "stream": "stdout",
       "text": [
        "avail electron; radi transfer; appendic avail; avail anonym; numer\n",
        "simul; physic condit; observatoir provenc; globular cluster; primordi\n",
        "spectrum; hydrodynam simul; spectral resolut; activ variat; magnet\n",
        "strength; previous publish; photometr redshift; satellit posit;\n",
        "luminos function; statist properti; herschel instrument; rel astrometr\n"
       ]
      }
     ],
     "prompt_number": 16
    },
    {
     "cell_type": "code",
     "collapsed": false,
     "input": [
      "wnl = nltk.WordNetLemmatizer()\n",
      "txt_to_lemm = [t.lower() for t in fr_abst_without_stopwords if len(t)>7 and frdist_fr[t] > 7 and t.isalpha()]\n",
      "text_lemmata = [wnl.lemmatize(t) for t in txt_to_lemm if t not in stop]\n",
      "c = Counter(text_lemmata)\n",
      "c.most_common()[:20]"
     ],
     "language": "python",
     "metadata": {},
     "outputs": [
      {
       "metadata": {},
       "output_type": "pyout",
       "prompt_number": 21,
       "text": [
        "[(u'observation', 126),\n",
        " (u'formation', 95),\n",
        " (u'magnetic', 87),\n",
        " (u'observed', 83),\n",
        " (u'emission', 80),\n",
        " (u'galaxy', 78),\n",
        " (u'telescope', 72),\n",
        " (u'simulation', 68),\n",
        " (u'molecular', 60),\n",
        " (u'evolution', 57),\n",
        " (u'detected', 52),\n",
        " (u'redshift', 51),\n",
        " (u'structure', 49),\n",
        " (u'temperature', 45),\n",
        " (u'analysis', 44),\n",
        " (u'function', 43),\n",
        " (u'property', 42),\n",
        " (u'available', 40),\n",
        " (u'distribution', 39),\n",
        " (u'spectrum', 39)]"
       ]
      }
     ],
     "prompt_number": 21
    },
    {
     "cell_type": "code",
     "collapsed": false,
     "input": [
      "from nltk.corpus import wordnet as wn\n",
      "wn.synsets('magnetic')"
     ],
     "language": "python",
     "metadata": {},
     "outputs": [
      {
       "metadata": {},
       "output_type": "pyout",
       "prompt_number": 33,
       "text": [
        "[Synset('magnetic.a.01'),\n",
        " Synset('magnetic.a.02'),\n",
        " Synset('magnetic.a.03'),\n",
        " Synset('magnetic.a.04'),\n",
        " Synset('charismatic.s.01')]"
       ]
      }
     ],
     "prompt_number": 33
    },
    {
     "cell_type": "code",
     "collapsed": false,
     "input": [
      "definitions = [wn.synset(syn).definition() for syn in wn.synsets('magnetic')]"
     ],
     "language": "python",
     "metadata": {},
     "outputs": []
    },
    {
     "cell_type": "code",
     "collapsed": false,
     "input": [],
     "language": "python",
     "metadata": {},
     "outputs": []
    }
   ],
   "metadata": {}
  }
 ]
}