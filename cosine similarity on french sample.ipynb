{
 "metadata": {
  "name": "",
  "signature": "sha256:0aea91127f5d1ae5986a0fc48c0861c4cd3c536f72e03e7eb04cd26b90ff8704"
 },
 "nbformat": 3,
 "nbformat_minor": 0,
 "worksheets": [
  {
   "cells": [
    {
     "cell_type": "code",
     "collapsed": false,
     "input": [
      "import nltk\n",
      "from nltk import *\n",
      "import json\n",
      "DATA = 'C:/Users/raphaelle/Documents/Learning/NLTK text/data_fr.json'\n",
      "f = open('C:/Users/raphaelle/Documents/Learning/NLTK text/data_fr.json').read()\n",
      "data = json.loads(f)\n",
      "data['abstract']['0']"
     ],
     "language": "python",
     "metadata": {},
     "outputs": [
      {
       "metadata": {},
       "output_type": "pyout",
       "prompt_number": 1,
       "text": [
        "u'If the ultraluminous source (ULX) M82 X-2 sustains its measured spin-up value of dot{\\u03bd }= 10^{-10} s^{-2}, it will become a millisecond pulsar in less than 10<SUP>5</SUP> yr. The observed (isotropic) luminosity of 10<SUP>40</SUP> erg s<SUP>-1</SUP> also supports the notion that the neutron star will spin up to a millisecond period upon accreting about 0.1 M<SUB>\\u2609</SUB> - the reported hard X-ray luminosity of this ULX, together with the spin-up value, implies torques consistent with the accretion disc extending down to the vicinity of the stellar surface, as expected for low values of the stellar dipole magnetic field (B \\u2272 10<SUP>9</SUP> G). This suggests a new channel of millisecond pulsar formation - in high-mass X-ray binaries - and may have implications for studies of gravitational waves, and possibly for the formation of low-mass black holes through accretion-induced collapse.'"
       ]
      }
     ],
     "prompt_number": 1
    },
    {
     "cell_type": "code",
     "collapsed": false,
     "input": [
      "abstracts = [word_tokenize(unicode(v)) for v in data['abstract'].values()]\n",
      "abstracts[1]"
     ],
     "language": "python",
     "metadata": {},
     "outputs": [
      {
       "metadata": {},
       "output_type": "pyout",
       "prompt_number": 2,
       "text": [
        "[u'Mg',\n",
        " u'ii',\n",
        " u'h',\n",
        " u'and',\n",
        " u'k',\n",
        " u'and',\n",
        " u'H\\u03b1',\n",
        " u'spectra',\n",
        " u'in',\n",
        " u'a',\n",
        " u'dynamical',\n",
        " u'prominence',\n",
        " u'have',\n",
        " u'been',\n",
        " u'obtained',\n",
        " u'along',\n",
        " u'the',\n",
        " u'slit',\n",
        " u'of',\n",
        " u'the',\n",
        " u'Interface',\n",
        " u'Region',\n",
        " u'Imaging',\n",
        " u'Spectrograph',\n",
        " u'(',\n",
        " u'IRIS',\n",
        " u')',\n",
        " u'and',\n",
        " u'with',\n",
        " u'the',\n",
        " u'Meudon',\n",
        " u'Multi-channel',\n",
        " u'Subtractive',\n",
        " u'Double',\n",
        " u'Pass',\n",
        " u'spectrograph',\n",
        " u'on',\n",
        " u'2013',\n",
        " u'September',\n",
        " u'24',\n",
        " u',',\n",
        " u'respectively',\n",
        " u'.',\n",
        " u'Single',\n",
        " u'Mg',\n",
        " u'ii',\n",
        " u'line',\n",
        " u'profiles',\n",
        " u'are',\n",
        " u'not',\n",
        " u'much',\n",
        " u'reversed',\n",
        " u',',\n",
        " u'while',\n",
        " u'at',\n",
        " u'some',\n",
        " u'positions',\n",
        " u'along',\n",
        " u'the',\n",
        " u'IRIS',\n",
        " u'slit',\n",
        " u'the',\n",
        " u'profiles',\n",
        " u'show',\n",
        " u'several',\n",
        " u'discrete',\n",
        " u'peaks',\n",
        " u'that',\n",
        " u'are',\n",
        " u'Doppler-shifted',\n",
        " u'.',\n",
        " u'The',\n",
        " u'intensity',\n",
        " u'of',\n",
        " u'these',\n",
        " u'peaks',\n",
        " u'is',\n",
        " u'generally',\n",
        " u'decreasing',\n",
        " u'with',\n",
        " u'their',\n",
        " u'increasing',\n",
        " u'Doppler',\n",
        " u'shift',\n",
        " u'.',\n",
        " u'We',\n",
        " u'interpret',\n",
        " u'this',\n",
        " u'unusual',\n",
        " u'behavior',\n",
        " u'as',\n",
        " u'being',\n",
        " u'due',\n",
        " u'to',\n",
        " u'the',\n",
        " u'Doppler',\n",
        " u'dimming',\n",
        " u'effect',\n",
        " u'.',\n",
        " u'We',\n",
        " u'discuss',\n",
        " u'the',\n",
        " u'possibility',\n",
        " u'to',\n",
        " u'interpret',\n",
        " u'the',\n",
        " u'unreversed',\n",
        " u'single',\n",
        " u'profiles',\n",
        " u'by',\n",
        " u'using',\n",
        " u'a',\n",
        " u'two-dimensional',\n",
        " u'(',\n",
        " u'2D',\n",
        " u')',\n",
        " u'model',\n",
        " u'of',\n",
        " u'the',\n",
        " u'entire',\n",
        " u'prominence',\n",
        " u'body',\n",
        " u'with',\n",
        " u'specific',\n",
        " u'radiative',\n",
        " u'boundary',\n",
        " u'conditions',\n",
        " u'.',\n",
        " u'We',\n",
        " u'have',\n",
        " u'performed',\n",
        " u'new',\n",
        " u'2D',\n",
        " u'isothermal\\u2500isobaric',\n",
        " u'modeling',\n",
        " u'of',\n",
        " u'both',\n",
        " u'H\\u03b1',\n",
        " u'and',\n",
        " u'Mg',\n",
        " u'ii',\n",
        " u'lines',\n",
        " u'and',\n",
        " u'show',\n",
        " u'the',\n",
        " u'ability',\n",
        " u'of',\n",
        " u'such',\n",
        " u'models',\n",
        " u'to',\n",
        " u'account',\n",
        " u'for',\n",
        " u'the',\n",
        " u'line',\n",
        " u'profile',\n",
        " u'variations',\n",
        " u'as',\n",
        " u'observed',\n",
        " u'.',\n",
        " u'However',\n",
        " u',',\n",
        " u'the',\n",
        " u'Mg',\n",
        " u'ii',\n",
        " u'line-center',\n",
        " u'intensities',\n",
        " u'require',\n",
        " u'the',\n",
        " u'model',\n",
        " u'with',\n",
        " u'a',\n",
        " u'temperature',\n",
        " u'increase',\n",
        " u'toward',\n",
        " u'the',\n",
        " u'prominence',\n",
        " u'boundary',\n",
        " u'.',\n",
        " u'We',\n",
        " u'show',\n",
        " u'that',\n",
        " u'even',\n",
        " u'simple',\n",
        " u'one-dimensional',\n",
        " u'(',\n",
        " u'1D',\n",
        " u')',\n",
        " u'models',\n",
        " u'with',\n",
        " u'a',\n",
        " u'prominence-to-corona',\n",
        " u'transition',\n",
        " u'region',\n",
        " u'(',\n",
        " u'PCTR',\n",
        " u')',\n",
        " u'fit',\n",
        " u'the',\n",
        " u'observed',\n",
        " u'Mg',\n",
        " u'ii',\n",
        " u'and',\n",
        " u'H\\u03b1',\n",
        " u'lines',\n",
        " u'quite',\n",
        " u'well',\n",
        " u',',\n",
        " u'while',\n",
        " u'the',\n",
        " u'isothermal\\u2500isobaric',\n",
        " u'models',\n",
        " u'(',\n",
        " u'1D',\n",
        " u'or',\n",
        " u'2D',\n",
        " u')',\n",
        " u'are',\n",
        " u'inconsistent',\n",
        " u'with',\n",
        " u'simultaneous',\n",
        " u'observations',\n",
        " u'in',\n",
        " u'the',\n",
        " u'Mg',\n",
        " u'ii',\n",
        " u'h',\n",
        " u'and',\n",
        " u'k',\n",
        " u'and',\n",
        " u'H\\u03b1',\n",
        " u'lines',\n",
        " u',',\n",
        " u'meaning',\n",
        " u'that',\n",
        " u'the',\n",
        " u'H\\u03b1',\n",
        " u'line',\n",
        " u'provides',\n",
        " u'a',\n",
        " u'strong',\n",
        " u'additional',\n",
        " u'constraint',\n",
        " u'on',\n",
        " u'the',\n",
        " u'modeling',\n",
        " u'.',\n",
        " u'IRIS',\n",
        " u'far-UV',\n",
        " u'detection',\n",
        " u'of',\n",
        " u'the',\n",
        " u'C',\n",
        " u'ii',\n",
        " u'lines',\n",
        " u'in',\n",
        " u'this',\n",
        " u'prominence',\n",
        " u'seems',\n",
        " u'to',\n",
        " u'provide',\n",
        " u'a',\n",
        " u'direct',\n",
        " u'constraint',\n",
        " u'on',\n",
        " u'the',\n",
        " u'PCTR',\n",
        " u'part',\n",
        " u'of',\n",
        " u'the',\n",
        " u'model',\n",
        " u'.']"
       ]
      }
     ],
     "prompt_number": 2
    },
    {
     "cell_type": "code",
     "collapsed": false,
     "input": [
      "tc = nltk.TextCollection(abstracts)"
     ],
     "language": "python",
     "metadata": {},
     "outputs": [],
     "prompt_number": 4
    },
    {
     "cell_type": "code",
     "collapsed": false,
     "input": [
      "td_matrix = {}\n",
      "for idx in range(len(abstracts)):\n",
      "    abstract = abstracts[idx]\n",
      "    fdist = nltk.FreqDist(abstract)\n",
      "\n",
      "    abstract_title = tuple(data['title'][str(idx)])\n",
      "    bibcode = data['bibcode'][str(idx)]\n",
      "    td_matrix[(abstract_title, bibcode)] = {}\n",
      "\n",
      "    for term in fdist.iterkeys():\n",
      "        td_matrix[(abstract_title, bibcode)][term] = tc.tf_idf(term, abstract)\n",
      "td_matrix.keys()"
     ],
     "language": "python",
     "metadata": {},
     "outputs": [
      {
       "metadata": {},
       "output_type": "pyout",
       "prompt_number": 6,
       "text": [
        "[((u'Herschel Observations of Dust around the High-mass X-Ray Binary GX 301-2',),\n",
        "  u'2014ApJ...797..114S'),\n",
        " ((u'Cosmic shear full nulling: sorting out dynamics, geometry and systematics',),\n",
        "  u'2014MNRAS.445.1526B'),\n",
        " ((u'Opacities and spectra of hydrogen atmospheres of moderately magnetized neutron stars',),\n",
        "  u'2014A&A...572A..69P'),\n",
        " ((u'The Mass-dependence of Angular Momentum Evolution in Sun-like Stars',),\n",
        "  u'2015ApJ...799L..23M'),\n",
        " ((u'Hot gas in massive haloes drives both mass quenching and environment quenching',),\n",
        "  u'2015MNRAS.447..374G'),\n",
        " ((u'The surface signature of the tidal dissipation of the core in a two-layer planet',),\n",
        "  u'2015A&A...573A..23R'),\n",
        " ((u'Cassini ISS mutual event astrometry of the mid-sized Saturnian satellites 2005-2012',),\n",
        "  u'2014A&A...572A..43C'),\n",
        " ((u'Variable magnetic field geometry of the young sun HN Pegasi (HD 206860)',),\n",
        "  u'2015A&A...573A..17B'),\n",
        " ((u'Gap interpolation by inpainting methods: Application to ground and space-based asteroseismic data',),\n",
        "  u'2015A&A...574A..18P'),\n",
        " ((u'Group and phase delay sensing for cophasing large optical arrays',),\n",
        "  u'2014MNRAS.445.2082M'),\n",
        " ((u'Stochastic Description of the High-frequency Content of Daily Sunspots and Evidence for Regime Changes',),\n",
        "  u'2015ApJ...799...56S'),\n",
        " ((u'The interplay between a galactic bar and a supermassive black hole: nuclear fuelling in a subparsec resolution galaxy simulation',),\n",
        "  u'2015MNRAS.446.2468E'),\n",
        " ((u'A truly Newtonian softening length for disc simulations',),\n",
        "  u'2015MNRAS.447.1866H'),\n",
        " ((u'Chemistry in disks. IX. Observations and modelling of HCO<SUP>+</SUP> and DCO<SUP>+</SUP> in DM Tauri',),\n",
        "  u'2015A&A...574A.137T'),\n",
        " ((u'Polarization measurement analysis. II. Best estimators of polarization fraction and angle',),\n",
        "  u'2015A&A...574A.136M'),\n",
        " ((u'The C IV forest as a probe of baryon acoustic oscillations',),\n",
        "  u'2014MNRAS.445L.104P'),\n",
        " ((u'Understanding the Mg II and H\\u03b1 Spectra in a Highly Dynamical Solar Prominence',),\n",
        "  u'2015ApJ...800L..13H'),\n",
        " ((u'MUSE discovers perpendicular arcs in the inner filament of Centaurus A',),\n",
        "  u'2015A&A...575L...3H'),\n",
        " ((u'<SUP>13</SUP>C-Methyl Formate: Observations of a Sample of High-mass Star-forming Regions Including orion-KL and Spectroscopic Characterization',),\n",
        "  u'2014ApJS..215...25F'),\n",
        " ((u'The magnetic fields at the surface of active single G-K giants',),\n",
        "  u'2015A&A...574A..90A'),\n",
        " ((u\"Jet-induced star formation in 3C 285 and Minkowski's Object\",),\n",
        "  u'2015A&A...574A..34S'),\n",
        " ((u'Chemical abundances of M giants in the Galactic centre: A single metal-rich population with low [\\u03b1/Fe]',),\n",
        "  u'2015A&A...573A..14R'),\n",
        " ((u'Variations of the Stellar Initial Mass Function in the Progenitors of Massive Early-type Galaxies and in Extreme Starburst Environments',),\n",
        "  u'2014ApJ...796...75C'),\n",
        " ((u'Inversion of stellar fundamental parameters from ESPaDOnS and Narval high-resolution spectra',),\n",
        "  u'2015A&A...573A..67P'),\n",
        " ((u'Effect of geodetic precession on the evolution of pulsar high-energy pulse profiles as derived with the striped-wind model',),\n",
        "  u'2015A&A...574A..51P'),\n",
        " ((u'Short-term variability on the surface of (1) Ceres\\u22c6. A changing amount of water ice?',),\n",
        "  u'2015A&A...575L...1P'),\n",
        " ((u'Accelerating the cosmic microwave background map-making procedure through preconditioning',),\n",
        "  u'2014A&A...572A..39S'),\n",
        " ((u'Spectral properties of the largest asteroids associated with Taurid Complex',),\n",
        "  u'2014A&A...572A.106P'),\n",
        " ((u'Dissipative effects on the sustainment of a magnetorotational dynamo in Keplerian shear flow',),\n",
        "  u'2015A&A...575A..14R'),\n",
        " ((u'Astrometric observations of Phobos and Deimos during the 1971 opposition of Mars',),\n",
        "  u'2014A&A...572A.104R'),\n",
        " ((u'Compensation of high-order quasi-static aberrations on SPHERE with the coronagraphic phase diversity (COFFEE)',),\n",
        "  u'2014A&A...572A..32P'),\n",
        " ((u'Spacetime approach to force-free magnetospheres',),\n",
        "  u'2014MNRAS.445.2500G'),\n",
        " ((u'An ultraluminous nascent millisecond pulsar',), u'2015MNRAS.448L..43K'),\n",
        " ((u'Vlasov-Poisson in 1D for initially cold systems: post-collapse Lagrangian perturbation theory',),\n",
        "  u'2015MNRAS.446.2902C'),\n",
        " ((u'Maximum tension: with and without a cosmological constant',),\n",
        "  u'2015MNRAS.446.3874B'),\n",
        " ((u'Spherical Jeans analysis for dark matter indirect detection in dwarf spheroidal galaxies - impact of physical parameters and triaxiality',),\n",
        "  u'2015MNRAS.446.3002B'),\n",
        " ((u'Multiwavelength active-optics Shack-Hartmann sensor for monitoring seeing and turbulence outer scale',),\n",
        "  u'2014A&A...572A..14M'),\n",
        " ((u'First detection of CF<SUP>+</SUP> towards a high-mass protostar',),\n",
        "  u'2015A&A...574L...4F'),\n",
        " ((u'Update on H I data collection from Green Bank, Parkes and Arecibo telescopes for the Cosmic Flows project',),\n",
        "  u'2015MNRAS.447.1531C'),\n",
        " ((u'Resonance capture at arbitrary inclination',), u'2015MNRAS.446.1998N'),\n",
        " ((u'Vortex cycles at the inner edges of dead zones in protoplanetary disks',),\n",
        "  u'2015A&A...573A.132F'),\n",
        " ((u'Detecting the integrated Sachs-Wolfe effect with stacked voids (Corrigendum)',),\n",
        "  u'2014A&A...572C...2I'),\n",
        " ((u'Characterization of the four new transiting planets KOI-188b, KOI-195b, KOI-192b, and KOI-830b',),\n",
        "  u'2014A&A...572A..93H'),\n",
        " ((u'Polar-ring galaxies: the SDSS view on the symbiotic galaxies',),\n",
        "  u'2015MNRAS.447.2287R'),\n",
        " ((u'Performance of the VLT Planet Finder SPHERE. I. Photometry and astrometry precision with IRDIS and IFS in laboratory',),\n",
        "  u'2014A&A...572A..85Z'),\n",
        " ((u'Light-element Nucleosynthesis in a Molecular Cloud Interacting with a Supernova Remnant and the Origin of Beryllium-10 in the Protosolar Nebula',),\n",
        "  u'2014ApJ...796..124T'),\n",
        " ((u'Fast molecular jet from L1157-mm',), u'2015A&A...573L...2T'),\n",
        " ((u'Signatures of massive collisions in debris discs. A self-consistent numerical model',),\n",
        "  u'2015A&A...573A..39K'),\n",
        " ((u'Matrix-free large-scale Bayesian inference in cosmology',),\n",
        "  u'2015MNRAS.447.1204J'),\n",
        " ((u'Non-linear mirror instability',), u'2015MNRAS.447L..45R'),\n",
        " ((u'Are Ultra-long Gamma-Ray Bursts Different?',), u'2015ApJ...800...16B'),\n",
        " ((u'Radial dependence of line profile variability in seven O9-B0.5 stars',),\n",
        "  u'2015A&A...574A.142M'),\n",
        " ((u'Chemical modelling of water deuteration in IRAS16293-2422',),\n",
        "  u'2014MNRAS.445.2854W'),\n",
        " ((u'Swirling around filaments: are large-scale structure vortices spinning up dark haloes?',),\n",
        "  u'2015MNRAS.446.2744L'),\n",
        " ((u'Differential interferometry of QSO broad-line regions - I. Improving the reverberation mapping model fits and black hole mass estimates',),\n",
        "  u'2015MNRAS.447.2420R'),\n",
        " ((u'Experimental and Theoretical Analysis of Low-energy CO + H<SUB>2</SUB> Inelastic Collisions',),\n",
        "  u'2015ApJ...799L...9C'),\n",
        " ((u'Insights on the dynamical history of the Fomalhaut system. Investigating the Fom c hypothesis',),\n",
        "  u'2015A&A...573A..87F'),\n",
        " ((u'Mass, velocity anisotropy, and pseudo phase-space density profiles of Abell 2142 (Corrigendum)',),\n",
        "  u'2015A&A...574C...1M'),\n",
        " ((u'One-dimensional non-LTE time-dependent radiative transfer of an He-detonation model and the connection to faint and fast-decaying supernovae',),\n",
        "  u'2015MNRAS.447.1370D'),\n",
        " ((u'Depletion of chlorine into HCl ice in a protostellar core. The CHESS spectral survey of OMC-2 FIR 4',),\n",
        "  u'2015A&A...574A.107K'),\n",
        " ((u'The Effect of Magnetic Topology on Thermally Driven Wind: Toward a General Formulation of the Braking Law',),\n",
        "  u'2015ApJ...798..116R'),\n",
        " ((u'Testing primordial non-Gaussianities on galactic scales at high redshift',),\n",
        "  u'2014MNRAS.445L.129H'),\n",
        " ((u'Dust properties inside molecular clouds from coreshine modeling and observations',),\n",
        "  u'2014A&A...572A..20L'),\n",
        " ((u'Hyperfine excitation of N<SUB>2</SUB>H<SUP>+</SUP> by H<SUB>2</SUB>: towards a revision of N<SUB>2</SUB>H<SUP>+</SUP> abundance in cold molecular clouds',),\n",
        "  u'2015MNRAS.446.1245L'),\n",
        " ((u'A ~6 Mpc overdensity at z \\u2243 2.7 detected along a pair of quasar sight lines: filament or protocluster?',),\n",
        "  u'2014A&A...572A..31F'),\n",
        " ((u\"The evolution of infalling sulfur species in Titan's atmosphere\",),\n",
        "  u'2014A&A...572A..58H'),\n",
        " ((u'Water deuterium fractionation in the high-mass star-forming region G34.26+0.15 based on Herschel/HIFI data',),\n",
        "  u'2014MNRAS.445.1299C'),\n",
        " ((u'Benchmark stars for Gaia Fundamental properties of the Population II star HD 140283 from interferometric, spectroscopic, and photometric data',),\n",
        "  u'2015A&A...575A..26C'),\n",
        " ((u'Collisional excitation of water by hydrogen atoms',),\n",
        "  u'2015MNRAS.446.2312D'),\n",
        " ((u'Matter power spectrum covariance matrix from the DEUS-PUR \\u039bCDM simulations: mass resolution and non-Gaussian errors',),\n",
        "  u'2015MNRAS.446.1756B'),\n",
        " ((u'The Carlina-type diluted telescope. Stellar fringes on Deneb',),\n",
        "  u'2015A&A...573A.117L'),\n",
        " ((u'Study of the X-ray activity of <ASTROBJ>Sagittarius A*</ASTROBJ> during the 2011 XMM-Newton campaign',),\n",
        "  u'2015A&A...573A..46M'),\n",
        " ((u'SOPHIE velocimetry of Kepler transit candidates. XIV. A joint photometric, spectroscopic, and dynamical analysis of the Kepler-117 system',),\n",
        "  u'2015A&A...573A.124B'),\n",
        " ((u'The VLTI/PIONIER near-infrared interferometric survey of southern T Tauri stars. I. First results',),\n",
        "  u'2015A&A...574A..41A'),\n",
        " ((u'The Mg i line: a new probe of the atmospheres of evaporating exoplanets',),\n",
        "  u'2015A&A...573A..11B'),\n",
        " ((u'Internal shocks driven by accretion flow variability in the compact jet of the black hole binary GX 339-4',),\n",
        "  u'2015MNRAS.447.3832D'),\n",
        " ((u'Resolving the Bright HCN(1-0) Emission toward the Seyfert 2 Nucleus of M51: Shock Enhancement by Radio Jets and Weak Masing by Infrared Pumping?',),\n",
        "  u'2015ApJ...799...26M'),\n",
        " ((u'Sample of optically unidentified X-ray binaries in the Galactic bulge: constraints on the physical nature from infrared photometric surveys',),\n",
        "  u'2015MNRAS.446.2418Z'),\n",
        " ((u'General solution for the vacuum electromagnetic field in the surroundings of a rotating star',),\n",
        "  u'2015A&A...573A..51B'),\n",
        " ((u'A parsec-resolution simulation of the Antennae galaxies: formation of star clusters during the merger',),\n",
        "  u'2015MNRAS.446.2038R'),\n",
        " ((u'Modeling and predicting the shape of the far-infrared to submillimeter emission in ultra-compact HII regions and cold clumps',),\n",
        "  u'2014A&A...572A..37P'),\n",
        " ((u'Cold gas in group-dominant elliptical galaxies',),\n",
        "  u'2015A&A...573A.111O'),\n",
        " ((u'H I study of the environment around ESO 243-49, the host galaxy of an intermediate-mass black hole',),\n",
        "  u'2015MNRAS.447.1951M'),\n",
        " ((u'Transiting exoplanets and magnetic spots characterized with optical interferometry',),\n",
        "  u'2015A&A...574A..69L'),\n",
        " ((u'A Simple Technique for Predicting High-redshift Galaxy Evolution',),\n",
        "  u'2015ApJ...799...32B'),\n",
        " ((u'<ASTROBJ>A resolved, au-scale gas disk around the B[e] star HD 50138</ASTROBJ>',),\n",
        "  u'2015A&A...573A..77E'),\n",
        " ((u'Saturn\\u02bcs Inner Satellites: Orbits, Masses, and the Chaotic Motion of Atlas from New Cassini Imaging Observations',),\n",
        "  u'2015AJ....149...27C'),\n",
        " ((u'A hadronic origin for ultra-high-frequency-peaked BL Lac objects',),\n",
        "  u'2015MNRAS.448..910C'),\n",
        " ((u'Can we explain atypical solar flares?',), u'2015A&A...574A..37D'),\n",
        " ((u'General relativistic monopole magnetosphere of neutron stars: a pseudo-spectral discontinuous Galerkin approach',),\n",
        "  u'2015MNRAS.447.3170P'),\n",
        " ((u'Thermal and Radiative Active Galactic Nucleus Feedback have a Limited Impact on Star Formation in High-redshift Galaxies',),\n",
        "  u'2015ApJ...800...19R'),\n",
        " ((u'On the radio properties of the intermediate-mass black hole candidate ESO 243-49 HLX-1',),\n",
        "  u'2015MNRAS.446.3268C'),\n",
        " ((u'Pulsar-black hole binaries: prospects for new gravity tests with future radio telescopes',),\n",
        "  u'2014MNRAS.445.3115L'),\n",
        " ((u'Exceptional AGN-driven turbulence inhibits star formation in the 3C 326N radio galaxy',),\n",
        "  u'2015A&A...574A..32G'),\n",
        " ((u'New Constraints on the Faint End of the UV Luminosity Function at z ~ 7-8 Using the Gravitational Lensing of the Hubble Frontier Fields Cluster A2744',),\n",
        "  u'2015ApJ...800...18A'),\n",
        " ((u'Masses of the components of SB2 binaries observed with Gaia - I. Selection of the sample and mass ratios of 20 new SB2s discovered with Sophie',),\n",
        "  u'2014MNRAS.445.2371H'),\n",
        " ((u'The SS433 jet from subparsec to parsec scales',), u'2015A&A...574A.143M'),\n",
        " ((u'Detecting dark matter substructures around the Milky Way with Gaia',),\n",
        "  u'2015MNRAS.446.1000F'),\n",
        " ((u'Modelling complex organic molecules in dense regions: Eley-Rideal and complex induced reaction',),\n",
        "  u'2015MNRAS.447.4004R'),\n",
        " ((u'Theoretical power spectra of mixed modes in low-mass red giant stars',),\n",
        "  u'2014A&A...572A..11G'),\n",
        " ((u'The life and death of cosmic voids',), u'2014MNRAS.445.1235S'),\n",
        " ((u'Evolution of angular-momentum-losing exoplanetary systems. Revisiting Darwin stability',),\n",
        "  u'2015A&A...574A..39D'),\n",
        " ((u'Revisiting Coincidence Rate between Gravitational Wave Detection and Short Gamma-Ray Burst for the Advanced and Third Generation',),\n",
        "  u'2015ApJ...799...69R'),\n",
        " ((u'Dynamics of the envelope of a rapidly rotating star or giant planet in gravitational contraction',),\n",
        "  u'2014A&A...572A..15H'),\n",
        " ((u'Effect of primordial non-Gaussianities on the far-UV luminosity function of high-redshift galaxies: implications for cosmic reionization',),\n",
        "  u'2015MNRAS.446.3235C'),\n",
        " ((u'[C II] absorption and emission in the diffuse interstellar medium across the Galactic plane',),\n",
        "  u'2015A&A...573A..30G'),\n",
        " ((u'Search for sub-kilometre trans-Neptunian objects using CoRoT asteroseismology data',),\n",
        "  u'2015MNRAS.446..932L'),\n",
        " ((u'A Complete Spectroscopic Characterization of SO and its Isotopologues up to the Terahertz Domain',),\n",
        "  u'2015ApJ...799..115M'),\n",
        " ((u'How can double-barred galaxies be long-lived?',), u'2015A&A...575A...7W'),\n",
        " ((u'Baryonic and dark matter distribution in cosmological simulations of spiral galaxies',),\n",
        "  u'2015MNRAS.447.1353M'),\n",
        " ((u'The impact of star formation and gamma-ray burst rates at high redshift on cosmic chemical evolution and reionization',),\n",
        "  u'2015MNRAS.447.2575V'),\n",
        " ((u'Hot super-Earths and giant planet cores from different migration histories Corrigendum',),\n",
        "  u'2014A&A...572C...1C'),\n",
        " ((u'SOPHIE velocimetry of Kepler transit candidates. XIII. KOI-189 b and KOI-686 b: two very low-mass stars in long-period orbits',),\n",
        "  u'2014A&A...572A.109D'),\n",
        " ((u'Spatial variation of the cooling lines in the reflection nebula NGC 7023',),\n",
        "  u'2015A&A...574A..97B'),\n",
        " ((u'Properties of the CO and H<SUB>2</SUB>O MOLsphere of the red supergiant Betelgeuse from VLTI/AMBER observations',),\n",
        "  u'2014A&A...572A..17M'),\n",
        " ((u'Departure from centrosymmetry of red giants and supergiants measured with VLTI/AMBER',),\n",
        "  u'2015MNRAS.446.3277C'),\n",
        " ((u'Polarization measurement analysis. I. Impact of the full covariance matrix on polarization fraction and angle measurements',),\n",
        "  u'2015A&A...574A.135M'),\n",
        " ((u'Can we trace very cold dust from its emission alone?',),\n",
        "  u'2015A&A...574L...5P'),\n",
        " ((u'A correlation between hard gamma-ray sources and cosmic voids along the line of sight',),\n",
        "  u'2015MNRAS.446.2267F'),\n",
        " ((u'Consistent neutron star models with magnetic-field-dependent equations of state',),\n",
        "  u'2015MNRAS.447.3785C'),\n",
        " ((u'Shell instability of a collapsing dense core',), u'2015A&A...574A.130N'),\n",
        " ((u'On the observability of coupled dark energy with cosmic voids',),\n",
        "  u'2015MNRAS.446L...1S'),\n",
        " ((u'Hyperfine excitation of CN by para- and ortho-H<SUB>2</SUB>',),\n",
        "  u'2015MNRAS.446L..21K'),\n",
        " ((u'A non-grey analytical model for irradiated atmospheres. II. Analytical vs. numerical solutions',),\n",
        "  u'2015A&A...574A..35P'),\n",
        " ((u'Excitation of the hyperfine levels of <SUP>13</SUP>CN and C<SUP>15</SUP>N in collisions with H<SUB>2</SUB> at low temperatures',),\n",
        "  u'2015MNRAS.446.1750F')]"
       ]
      }
     ],
     "prompt_number": 6
    },
    {
     "cell_type": "code",
     "collapsed": false,
     "input": [
      "distances = {}\n",
      "for (title1, bibcode1) in td_matrix.keys():\n",
      "\n",
      "    distances[(title1, bibcode1)] = {}\n",
      "    (min_dist, most_similar) = (1.0, ('', ''))\n",
      "\n",
      "    for (title2, bibcode2) in td_matrix.keys():\n",
      "\n",
      "        # Take care not to mutate the original data structures\n",
      "        # since we're in a loop and need the originals multiple times\n",
      "\n",
      "        terms1 = td_matrix[(title1, bibcode1)].copy()\n",
      "        terms2 = td_matrix[(title2, bibcode2)].copy()\n",
      "\n",
      "        # Fill in \"gaps\" in each map so vectors of the same length can be computed\n",
      "\n",
      "        for term1 in terms1:\n",
      "            if term1 not in terms2:\n",
      "                terms2[term1] = 0\n",
      "\n",
      "        for term2 in terms2:\n",
      "            if term2 not in terms1:\n",
      "                terms1[term2] = 0\n",
      "\n",
      "        # Create vectors from term maps\n",
      "\n",
      "        v1 = [score for (term, score) in sorted(terms1.items())]\n",
      "        v2 = [score for (term, score) in sorted(terms2.items())]\n",
      "sorted(terms1.items())"
     ],
     "language": "python",
     "metadata": {},
     "outputs": [
      {
       "metadata": {},
       "output_type": "pyout",
       "prompt_number": 12,
       "text": [
        "[(u\"''\", 0.0048405400582826105),\n",
        " (u'(', 0.003245242962572521),\n",
        " (u')', 0.003245242962572521),\n",
        " (u'+', 0.05464954663265339),\n",
        " (u',', 0.0003380692802849133),\n",
        " (u'-1', 0.008704796849650268),\n",
        " (u'-2', 0.005464954663265338),\n",
        " (u'-4', 0.0068429808671618495),\n",
        " (u'-6', 0.008221007071058361),\n",
        " (u'.', 0.0005312517261620067),\n",
        " (u'/', 0.00867311426655215),\n",
        " (u'//www.aanda.org', 0.0031217041735205142),\n",
        " (u'//www.aanda.org/10.1051/0004-6361/201424718/olm', 0.009599033274954873),\n",
        " (u'/A', 0.0027089022554723148),\n",
        " (u'/C', 0.009599033274954873),\n",
        " (u'/SUP', 0.033212695137464485),\n",
        " (u'0.8-3', 0.009599033274954873),\n",
        " (u'1-0', 0.006399355516636581),\n",
        " (u'1.2', 0.0068429808671618495),\n",
        " (u'1.6', 0.007414913416767775),\n",
        " (u'10', 0.006795830714841142),\n",
        " (u'102.6', 0.009599033274954873),\n",
        " (u'11', 0.0057304246287216455),\n",
        " (u'30', 0.004658861008974753),\n",
        " (u'4', 0.004086928459368826),\n",
        " (u'53', 0.009599033274954873),\n",
        " (u':', 0.008955582028587455),\n",
        " (u'<', 0.030029589784177982),\n",
        " (u'=', 0.0030466737003935827),\n",
        " (u'>', 0.030029589784177982),\n",
        " (u'A', 0.002031115800262388),\n",
        " (u'Aims', 0.0021682785666380373),\n",
        " (u'BR', 0.00867311426655215),\n",
        " (u'C', 0.015692380675742038),\n",
        " (u'CF', 0.05759419964972924),\n",
        " (u'Conclusions', 0.0031217041735205142),\n",
        " (u'CygX-N63', 0.009599033274954873),\n",
        " (u'Cygnus', 0.009599033274954873),\n",
        " (u'GHz', 0.007414913416767775),\n",
        " (u'IRAM', 0.006399355516636581),\n",
        " (u'In', 0.0018216515544217794),\n",
        " (u'Ionization', 0.009599033274954873),\n",
        " (u'J', 0.0068429808671618495),\n",
        " (u'LTE', 0.008221007071058361),\n",
        " (u'Methods', 0.0021682785666380373),\n",
        " (u'PDR', 0.008221007071058361),\n",
        " (u'Results', 0.0021214982536953055),\n",
        " (u'SUP', 0.033212695137464485),\n",
        " (u'Surprisingly', 0.008221007071058361),\n",
        " (u'The', 0.0023516043272289867),\n",
        " (u'There', 0.0068429808671618495),\n",
        " (u'This', 0.003337294992994142),\n",
        " (u'UV', 0.012073774425742529),\n",
        " (u'We', 0.0008085126203500202),\n",
        " (u'X', 0.007414913416767775),\n",
        " (u'X-ray', 0.004658861008974753),\n",
        " (u'a', 0.0010757309862793035),\n",
        " (u'accretion', 0.0057304246287216455),\n",
        " (u'also', 0.0019874201606624375),\n",
        " (u'an', 0.005906632531859262),\n",
        " (u'analyzed', 0.008221007071058361),\n",
        " (u'and', 0.00038636489175418654),\n",
        " (u'approach', 0.0050213293127400705),\n",
        " (u'are', 0.000609393956765926),\n",
        " (u'as', 0.001042243825244794),\n",
        " (u'assuming', 0.0068429808671618495),\n",
        " (u'at', 0.0007434720497987938),\n",
        " (u'available', 0.002474741150787656),\n",
        " (u'be', 0.0011813265063718521),\n",
        " (u'beam', 0.008221007071058361),\n",
        " (u'been', 0.0025883761683621067),\n",
        " (u'by', 0.0008140618876852947),\n",
        " (u'carbon', 0.006036887212871264),\n",
        " (u'caused', 0.008221007071058361),\n",
        " (u'chemical', 0.004658861008974753),\n",
        " (u'chemistry', 0.007414913416767775),\n",
        " (u'cm', 0.0050213293127400705),\n",
        " (u'cold', 0.0042152356584494845),\n",
        " (u'collapsing', 0.02224474025030333),\n",
        " (u'column', 0.01482982683353555),\n",
        " (u'contrast', 0.005464954663265338),\n",
        " (u'core.Appendices', 0.009599033274954873),\n",
        " (u'could', 0.008704796849650268),\n",
        " (u'data', 0.002367251645280149),\n",
        " (u'dense', 0.004658861008974753),\n",
        " (u'density', 0.006561669610156483),\n",
        " (u'derive', 0.008173856918737652),\n",
        " (u'detected', 0.0030466737003935827),\n",
        " (u'detection', 0.010929909326530677),\n",
        " (u'development', 0.007414913416767775),\n",
        " (u'diagram', 0.006399355516636581),\n",
        " (u'dissociation', 0.009599033274954873),\n",
        " (u'early', 0.015692380675742038),\n",
        " (u'efficient', 0.006399355516636581),\n",
        " (u'electronic', 0.0031217041735205142),\n",
        " (u'energy', 0.003643303108843559),\n",
        " (u'enough', 0.016442014142116722),\n",
        " (u'envelope', 0.005464954663265338),\n",
        " (u'envelopes', 0.009599033274954873),\n",
        " (u'equilibrium', 0.0068429808671618495),\n",
        " (u'evidence', 0.0057304246287216455),\n",
        " (u'evolution', 0.010361458949964127),\n",
        " (u'existence', 0.012798711033273163),\n",
        " (u'explain', 0.0057304246287216455),\n",
        " (u'exterior', 0.008221007071058361),\n",
        " (u'external', 0.0068429808671618495),\n",
        " (u'first', 0.0028372094545529736),\n",
        " (u'fluoromethylidynium', 0.009599033274954873),\n",
        " (u'for', 0.0013308760515758037),\n",
        " (u'form', 0.002530746870403355),\n",
        " (u'formation', 0.002904608165637827),\n",
        " (u'from', 0.003352640079825431),\n",
        " (u'gas', 0.0032808348050782413),\n",
        " (u'good', 0.005464954663265338),\n",
        " (u'has', 0.0054178045109446295),\n",
        " (u'high', 0.0029743722209286225),\n",
        " (u'hot', 0.005464954663265338),\n",
        " (u'href=', 0.0027089022554723148),\n",
        " (u'http', 0.0054178045109446295),\n",
        " (u'implications', 0.0068429808671618495),\n",
        " (u'important', 0.006730892729117898),\n",
        " (u'in', 0.0005259626441713319),\n",
        " (u'indicate', 0.005464954663265338),\n",
        " (u'inner', 0.008704796849650268),\n",
        " (u'interesting', 0.008221007071058361),\n",
        " (u'ion', 0.016442014142116722),\n",
        " (u'ionization', 0.022921698514886582),\n",
        " (u'ionized', 0.006399355516636581),\n",
        " (u'ionizing', 0.008221007071058361),\n",
        " (u'is', 0.001854690689945069),\n",
        " (u'issue', 0.007414913416767775),\n",
        " (u'itself', 0.007414913416767775),\n",
        " (u'km', 0.010461587117161358),\n",
        " (u'large', 0.0028372094545529736),\n",
        " (u'line', 0.006907639299976084),\n",
        " (u'lines', 0.003365446364558949),\n",
        " (u'local', 0.0057304246287216455),\n",
        " (u'm', 0.0050213293127400705),\n",
        " (u'massive', 0.017998921509668104),\n",
        " (u'means', 0.0057304246287216455),\n",
        " (u'mm', 0.0068429808671618495),\n",
        " (u'model', 0.004336557133276075),\n",
        " (u'no', 0.007286606217687118),\n",
        " (u'not', 0.0021214982536953055),\n",
        " (u'number', 0.003852767354684168),\n",
        " (u'object', 0.005464954663265338),\n",
        " (u'obtain', 0.0050213293127400705),\n",
        " (u'occurred', 0.009599033274954873),\n",
        " (u'of', 0.0012073902867318332),\n",
        " (u'only', 0.0030466737003935827),\n",
        " (u'opens', 0.008221007071058361),\n",
        " (u'order', 0.003966402372258618),\n",
        " (u'origin', 0.005230793558580679),\n",
        " (u'our', 0.002216186223852869),\n",
        " (u'outflow', 0.0068429808671618495),\n",
        " (u'part', 0.004352398424825134),\n",
        " (u'peculiar', 0.0068429808671618495),\n",
        " (u'performed', 0.003453819649988042),\n",
        " (u'perspectives', 0.009599033274954873),\n",
        " (u'photon', 0.008221007071058361),\n",
        " (u'photons', 0.007414913416767775),\n",
        " (u'photosphere', 0.007414913416767775),\n",
        " (u'population', 0.004658861008974753),\n",
        " (u'possibility', 0.006036887212871264),\n",
        " (u'power', 0.004499730377417026),\n",
        " (u'protostar', 0.032884028284233445),\n",
        " (u'protostars', 0.019198066549909746),\n",
        " (u'protostellar', 0.007414913416767775),\n",
        " (u'provide', 0.0030466737003935827),\n",
        " (u'radiations', 0.009599033274954873),\n",
        " (u'range', 0.003453819649988042),\n",
        " (u'ratio', 0.0035463047705345486),\n",
        " (u'region', 0.007092609541069097),\n",
        " (u'regions', 0.007092609541069097),\n",
        " (u'report', 0.005230793558580679),\n",
        " (u'result', 0.005464954663265338),\n",
        " (u'rotational', 0.004658861008974753),\n",
        " (u's', 0.013057195274475403),\n",
        " (u'shock', 0.007414913416767775),\n",
        " (u'shocks', 0.007414913416767775),\n",
        " (u'sign', 0.0068429808671618495),\n",
        " (u'significant', 0.004086928459368826),\n",
        " (u'source', 0.010929909326530677),\n",
        " (u'spectral', 0.004086928459368826),\n",
        " (u'study', 0.0028372094545529736),\n",
        " (u'suggesting', 0.0057304246287216455),\n",
        " (u'survey', 0.0057304246287216455),\n",
        " (u'telescope', 0.004658861008974753),\n",
        " (u'that', 0.0008718638778016786),\n",
        " (u'the', 0.0009659122293854665),\n",
        " (u'thermodynamical', 0.008221007071058361),\n",
        " (u'this', 0.0013308760515758035),\n",
        " (u'thought', 0.006399355516636581),\n",
        " (u'to', 0.0006574533052141649),\n",
        " (u'total', 0.004352398424825134),\n",
        " (u'towards', 0.012073774425742529),\n",
        " (u'tracer', 0.0068429808671618495),\n",
        " (u'trigger', 0.009599033274954873),\n",
        " (u'unbiased', 0.008221007071058361),\n",
        " (u'using', 0.0023156105192299295),\n",
        " (u'velocity', 0.004352398424825134),\n",
        " (u'we', 0.0008140618876852947),\n",
        " (u'were', 0.0029743722209286225),\n",
        " (u'which', 0.0017436779696240034),\n",
        " (u'width', 0.0068429808671618495),\n",
        " (u'with', 0.0005445958452213018),\n",
        " (u'within', 0.0042152356584494845),\n",
        " (u'young', 0.0068429808671618495),\n",
        " (u'\\xd7', 0.007490555698353322)]"
       ]
      }
     ],
     "prompt_number": 12
    },
    {
     "cell_type": "code",
     "collapsed": false,
     "input": [
      "distances = {}\n",
      "for (title1, bibcode1) in td_matrix.keys():\n",
      "\n",
      "    distances[(title1, bibcode1)] = {}\n",
      "    (min_dist, most_similar) = (1.0, ('', ''))\n",
      "\n",
      "    for (title2, bibcode2) in td_matrix.keys():\n",
      "\n",
      "        # Take care not to mutate the original data structures\n",
      "        # since we're in a loop and need the originals multiple times\n",
      "\n",
      "        terms1 = td_matrix[(title1, bibcode1)].copy()\n",
      "        terms2 = td_matrix[(title2, bibcode2)].copy()\n",
      "\n",
      "        # Fill in \"gaps\" in each map so vectors of the same length can be computed\n",
      "\n",
      "        for term1 in terms1:\n",
      "            if term1 not in terms2:\n",
      "                terms2[term1] = 0\n",
      "\n",
      "        for term2 in terms2:\n",
      "            if term2 not in terms1:\n",
      "                terms1[term2] = 0\n",
      "\n",
      "        # Create vectors from term maps\n",
      "\n",
      "        v1 = [score for (term, score) in sorted(terms1.items())]\n",
      "        v2 = [score for (term, score) in sorted(terms2.items())]\n",
      "\n",
      "        # Compute similarity amongst documents\n",
      "\n",
      "        distances[(title1, bibcode1)][(title2, bibcode2)] = \\\n",
      "            nltk.cluster.util.cosine_distance(v1, v2)\n",
      "\n",
      "        if bibcode1 == bibcode2:\n",
      "            #print distances[(title1, url1)][(title2, url2)]\n",
      "            continue\n",
      "\n",
      "        if distances[(title1, bibcode1)][(title2, bibcode2)] < min_dist:\n",
      "            (min_dist, most_similar) = (distances[(title1, bibcode1)][(title2,\n",
      "                                         bibcode2)], (title2, bibcode2))\n",
      "    \n",
      "    print '''Most similar to %s (%s)\n",
      "\\t%s (%s)\n",
      "\\tscore %f\n",
      "''' % (title1, bibcode1,\n",
      "            most_similar[0], most_similar[1], 1-min_dist)"
     ],
     "language": "python",
     "metadata": {},
     "outputs": [
      {
       "output_type": "stream",
       "stream": "stdout",
       "text": [
        "Most similar to (u'Herschel Observations of Dust around the High-mass X-Ray Binary GX 301-2',) (2014ApJ...797..114S)\n",
        "\t(u'Chemistry in disks. IX. Observations and modelling of HCO<SUP>+</SUP> and DCO<SUP>+</SUP> in DM Tauri',) (2015A&A...574A.137T)\n",
        "\tscore 0.149383\n",
        "\n",
        "Most similar to (u'Cosmic shear full nulling: sorting out dynamics, geometry and systematics',) (2014MNRAS.445.1526B)\n",
        "\t(u'Transiting exoplanets and magnetic spots characterized with optical interferometry',) (2015A&A...574A..69L)\n",
        "\tscore 0.078734\n"
       ]
      },
      {
       "output_type": "stream",
       "stream": "stdout",
       "text": [
        "\n",
        "Most similar to (u'Opacities and spectra of hydrogen atmospheres of moderately magnetized neutron stars',) (2014A&A...572A..69P)\n",
        "\t(u'The SS433 jet from subparsec to parsec scales',) (2015A&A...574A.143M)\n",
        "\tscore 0.225495\n"
       ]
      },
      {
       "output_type": "stream",
       "stream": "stdout",
       "text": [
        "\n",
        "Most similar to (u'The Mass-dependence of Angular Momentum Evolution in Sun-like Stars',) (2015ApJ...799L..23M)\n",
        "\t(u'Excitation of the hyperfine levels of <SUP>13</SUP>CN and C<SUP>15</SUP>N in collisions with H<SUB>2</SUB> at low temperatures',) (2015MNRAS.446.1750F)\n",
        "\tscore 0.454822\n"
       ]
      },
      {
       "output_type": "stream",
       "stream": "stdout",
       "text": [
        "\n",
        "Most similar to (u'Hot gas in massive haloes drives both mass quenching and environment quenching',) (2015MNRAS.447..374G)\n",
        "\t(u'<SUP>13</SUP>C-Methyl Formate: Observations of a Sample of High-mass Star-forming Regions Including orion-KL and Spectroscopic Characterization',) (2014ApJS..215...25F)\n",
        "\tscore 0.122079\n"
       ]
      },
      {
       "output_type": "stream",
       "stream": "stdout",
       "text": [
        "\n",
        "Most similar to (u'The surface signature of the tidal dissipation of the core in a two-layer planet',) (2015A&A...573A..23R)\n",
        "\t(u'Stochastic Description of the High-frequency Content of Daily Sunspots and Evidence for Regime Changes',) (2015ApJ...799...56S)\n",
        "\tscore 0.076476\n"
       ]
      },
      {
       "output_type": "stream",
       "stream": "stdout",
       "text": [
        "\n",
        "Most similar to (u'Cassini ISS mutual event astrometry of the mid-sized Saturnian satellites 2005-2012',) (2014A&A...572A..43C)\n",
        "\t(u'[C II] absorption and emission in the diffuse interstellar medium across the Galactic plane',) (2015A&A...573A..30G)\n",
        "\tscore 0.148762\n"
       ]
      },
      {
       "output_type": "stream",
       "stream": "stdout",
       "text": [
        "\n",
        "Most similar to (u'Variable magnetic field geometry of the young sun HN Pegasi (HD 206860)',) (2015A&A...573A..17B)\n",
        "\t(u'Testing primordial non-Gaussianities on galactic scales at high redshift',) (2014MNRAS.445L.129H)\n",
        "\tscore 0.102549\n"
       ]
      },
      {
       "output_type": "stream",
       "stream": "stdout",
       "text": [
        "\n",
        "Most similar to (u'Gap interpolation by inpainting methods: Application to ground and space-based asteroseismic data',) (2015A&A...574A..18P)\n",
        "\t(u'Polarization measurement analysis. II. Best estimators of polarization fraction and angle',) (2015A&A...574A.136M)\n",
        "\tscore 0.305572\n"
       ]
      },
      {
       "output_type": "stream",
       "stream": "stdout",
       "text": [
        "\n",
        "Most similar to (u'Group and phase delay sensing for cophasing large optical arrays',) (2014MNRAS.445.2082M)\n",
        "\t(u'Spacetime approach to force-free magnetospheres',) (2014MNRAS.445.2500G)\n",
        "\tscore 0.195213\n"
       ]
      },
      {
       "output_type": "stream",
       "stream": "stdout",
       "text": [
        "\n",
        "Most similar to (u'Stochastic Description of the High-frequency Content of Daily Sunspots and Evidence for Regime Changes',) (2015ApJ...799...56S)\n",
        "\t(u'Update on H I data collection from Green Bank, Parkes and Arecibo telescopes for the Cosmic Flows project',) (2015MNRAS.447.1531C)\n",
        "\tscore 0.174538\n"
       ]
      },
      {
       "output_type": "stream",
       "stream": "stdout",
       "text": [
        "\n",
        "Most similar to (u'The interplay between a galactic bar and a supermassive black hole: nuclear fuelling in a subparsec resolution galaxy simulation',) (2015MNRAS.446.2468E)\n",
        "\t(u'The Mg i line: a new probe of the atmospheres of evaporating exoplanets',) (2015A&A...573A..11B)\n",
        "\tscore 0.102300\n"
       ]
      },
      {
       "output_type": "stream",
       "stream": "stdout",
       "text": [
        "\n",
        "Most similar to (u'A truly Newtonian softening length for disc simulations',) (2015MNRAS.447.1866H)\n",
        "\t(u'A ~6 Mpc overdensity at z \\u2243 2.7 detected along a pair of quasar sight lines: filament or protocluster?',) (2014A&A...572A..31F)\n",
        "\tscore 0.087046\n"
       ]
      },
      {
       "output_type": "stream",
       "stream": "stdout",
       "text": [
        "\n",
        "Most similar to (u'Chemistry in disks. IX. Observations and modelling of HCO<SUP>+</SUP> and DCO<SUP>+</SUP> in DM Tauri',) (2015A&A...574A.137T)\n",
        "\t(u'Herschel Observations of Dust around the High-mass X-Ray Binary GX 301-2',) (2014ApJ...797..114S)\n",
        "\tscore 0.149383\n"
       ]
      },
      {
       "output_type": "stream",
       "stream": "stdout",
       "text": [
        "\n",
        "Most similar to (u'Polarization measurement analysis. II. Best estimators of polarization fraction and angle',) (2015A&A...574A.136M)\n",
        "\t(u'Gap interpolation by inpainting methods: Application to ground and space-based asteroseismic data',) (2015A&A...574A..18P)\n",
        "\tscore 0.305572\n"
       ]
      },
      {
       "output_type": "stream",
       "stream": "stdout",
       "text": [
        "\n",
        "Most similar to (u'The C IV forest as a probe of baryon acoustic oscillations',) (2014MNRAS.445L.104P)\n",
        "\t(u'Hyperfine excitation of CN by para- and ortho-H<SUB>2</SUB>',) (2015MNRAS.446L..21K)\n",
        "\tscore 0.280511\n"
       ]
      },
      {
       "output_type": "stream",
       "stream": "stdout",
       "text": [
        "\n",
        "Most similar to (u'Understanding the Mg II and H\\u03b1 Spectra in a Highly Dynamical Solar Prominence',) (2015ApJ...800L..13H)\n",
        "\t(u'A non-grey analytical model for irradiated atmospheres. II. Analytical vs. numerical solutions',) (2015A&A...574A..35P)\n",
        "\tscore 0.088759\n"
       ]
      },
      {
       "output_type": "stream",
       "stream": "stdout",
       "text": [
        "\n",
        "Most similar to (u'MUSE discovers perpendicular arcs in the inner filament of Centaurus A',) (2015A&A...575L...3H)\n",
        "\t(u'A Simple Technique for Predicting High-redshift Galaxy Evolution',) (2015ApJ...799...32B)\n",
        "\tscore 0.124138\n"
       ]
      },
      {
       "output_type": "stream",
       "stream": "stdout",
       "text": [
        "\n",
        "Most similar to (u'<SUP>13</SUP>C-Methyl Formate: Observations of a Sample of High-mass Star-forming Regions Including orion-KL and Spectroscopic Characterization',) (2014ApJS..215...25F)\n",
        "\t(u'Effect of geodetic precession on the evolution of pulsar high-energy pulse profiles as derived with the striped-wind model',) (2015A&A...574A..51P)\n",
        "\tscore 0.197360\n"
       ]
      },
      {
       "output_type": "stream",
       "stream": "stdout",
       "text": [
        "\n",
        "Most similar to (u'The magnetic fields at the surface of active single G-K giants',) (2015A&A...574A..90A)\n",
        "\t(u'Swirling around filaments: are large-scale structure vortices spinning up dark haloes?',) (2015MNRAS.446.2744L)\n",
        "\tscore 0.093751\n"
       ]
      },
      {
       "output_type": "stream",
       "stream": "stdout",
       "text": [
        "\n",
        "Most similar to (u\"Jet-induced star formation in 3C 285 and Minkowski's Object\",) (2015A&A...574A..34S)\n",
        "\t(u'Resonance capture at arbitrary inclination',) (2015MNRAS.446.1998N)\n",
        "\tscore 0.204132\n"
       ]
      },
      {
       "output_type": "stream",
       "stream": "stdout",
       "text": [
        "\n",
        "Most similar to (u'Chemical abundances of M giants in the Galactic centre: A single metal-rich population with low [\\u03b1/Fe]',) (2015A&A...573A..14R)\n",
        "\t(u'Swirling around filaments: are large-scale structure vortices spinning up dark haloes?',) (2015MNRAS.446.2744L)\n",
        "\tscore 0.198502\n"
       ]
      },
      {
       "output_type": "stream",
       "stream": "stdout",
       "text": [
        "\n",
        "Most similar to (u'Variations of the Stellar Initial Mass Function in the Progenitors of Massive Early-type Galaxies and in Extreme Starburst Environments',) (2014ApJ...796...75C)\n",
        "\t(u'Resolving the Bright HCN(1-0) Emission toward the Seyfert 2 Nucleus of M51: Shock Enhancement by Radio Jets and Weak Masing by Infrared Pumping?',) (2015ApJ...799...26M)\n",
        "\tscore 0.495248\n"
       ]
      },
      {
       "output_type": "stream",
       "stream": "stdout",
       "text": [
        "\n",
        "Most similar to (u'Inversion of stellar fundamental parameters from ESPaDOnS and Narval high-resolution spectra',) (2015A&A...573A..67P)\n",
        "\t(u'Effect of geodetic precession on the evolution of pulsar high-energy pulse profiles as derived with the striped-wind model',) (2015A&A...574A..51P)\n",
        "\tscore 0.140106\n"
       ]
      },
      {
       "output_type": "stream",
       "stream": "stdout",
       "text": [
        "\n",
        "Most similar to (u'Effect of geodetic precession on the evolution of pulsar high-energy pulse profiles as derived with the striped-wind model',) (2015A&A...574A..51P)\n",
        "\t(u'Performance of the VLT Planet Finder SPHERE. I. Photometry and astrometry precision with IRDIS and IFS in laboratory',) (2014A&A...572A..85Z)\n",
        "\tscore 0.385342\n"
       ]
      },
      {
       "output_type": "stream",
       "stream": "stdout",
       "text": [
        "\n",
        "Most similar to (u'Short-term variability on the surface of (1) Ceres\\u22c6. A changing amount of water ice?',) (2015A&A...575L...1P)\n",
        "\t(u'Properties of the CO and H<SUB>2</SUB>O MOLsphere of the red supergiant Betelgeuse from VLTI/AMBER observations',) (2014A&A...572A..17M)\n",
        "\tscore 0.265203\n"
       ]
      },
      {
       "output_type": "stream",
       "stream": "stdout",
       "text": [
        "\n",
        "Most similar to (u'Accelerating the cosmic microwave background map-making procedure through preconditioning',) (2014A&A...572A..39S)\n",
        "\t(u'Modelling complex organic molecules in dense regions: Eley-Rideal and complex induced reaction',) (2015MNRAS.447.4004R)\n",
        "\tscore 0.170538\n"
       ]
      },
      {
       "output_type": "stream",
       "stream": "stdout",
       "text": [
        "\n",
        "Most similar to (u'Spectral properties of the largest asteroids associated with Taurid Complex',) (2014A&A...572A.106P)\n",
        "\t(u'Radial dependence of line profile variability in seven O9-B0.5 stars',) (2015A&A...574A.142M)\n",
        "\tscore 0.182830\n"
       ]
      },
      {
       "output_type": "stream",
       "stream": "stdout",
       "text": [
        "\n",
        "Most similar to (u'Dissipative effects on the sustainment of a magnetorotational dynamo in Keplerian shear flow',) (2015A&A...575A..14R)\n",
        "\t(u'Spatial variation of the cooling lines in the reflection nebula NGC 7023',) (2015A&A...574A..97B)\n",
        "\tscore 0.103241\n"
       ]
      },
      {
       "output_type": "stream",
       "stream": "stdout",
       "text": [
        "\n",
        "Most similar to (u'Astrometric observations of Phobos and Deimos during the 1971 opposition of Mars',) (2014A&A...572A.104R)\n",
        "\t(u'Dust properties inside molecular clouds from coreshine modeling and observations',) (2014A&A...572A..20L)\n",
        "\tscore 0.075711\n"
       ]
      },
      {
       "output_type": "stream",
       "stream": "stdout",
       "text": [
        "\n",
        "Most similar to (u'Compensation of high-order quasi-static aberrations on SPHERE with the coronagraphic phase diversity (COFFEE)',) (2014A&A...572A..32P)\n",
        "\t(u'Spatial variation of the cooling lines in the reflection nebula NGC 7023',) (2015A&A...574A..97B)\n",
        "\tscore 0.151072\n"
       ]
      },
      {
       "output_type": "stream",
       "stream": "stdout",
       "text": [
        "\n",
        "Most similar to (u'Spacetime approach to force-free magnetospheres',) (2014MNRAS.445.2500G)\n",
        "\t(u'An ultraluminous nascent millisecond pulsar',) (2015MNRAS.448L..43K)\n",
        "\tscore 0.198199\n"
       ]
      },
      {
       "output_type": "stream",
       "stream": "stdout",
       "text": [
        "\n",
        "Most similar to (u'An ultraluminous nascent millisecond pulsar',) (2015MNRAS.448L..43K)\n",
        "\t(u'Spacetime approach to force-free magnetospheres',) (2014MNRAS.445.2500G)\n",
        "\tscore 0.198199\n"
       ]
      },
      {
       "output_type": "stream",
       "stream": "stdout",
       "text": [
        "\n",
        "Most similar to (u'Vlasov-Poisson in 1D for initially cold systems: post-collapse Lagrangian perturbation theory',) (2015MNRAS.446.2902C)\n",
        "\t(u'Dust properties inside molecular clouds from coreshine modeling and observations',) (2014A&A...572A..20L)\n",
        "\tscore 0.126751\n"
       ]
      },
      {
       "output_type": "stream",
       "stream": "stdout",
       "text": [
        "\n",
        "Most similar to (u'Maximum tension: with and without a cosmological constant',) (2015MNRAS.446.3874B)\n",
        "\t(u'Pulsar-black hole binaries: prospects for new gravity tests with future radio telescopes',) (2014MNRAS.445.3115L)\n",
        "\tscore 0.168429\n"
       ]
      },
      {
       "output_type": "stream",
       "stream": "stdout",
       "text": [
        "\n",
        "Most similar to (u'Spherical Jeans analysis for dark matter indirect detection in dwarf spheroidal galaxies - impact of physical parameters and triaxiality',) (2015MNRAS.446.3002B)\n",
        "\t(u'The Mass-dependence of Angular Momentum Evolution in Sun-like Stars',) (2015ApJ...799L..23M)\n",
        "\tscore 0.224950\n"
       ]
      },
      {
       "output_type": "stream",
       "stream": "stdout",
       "text": [
        "\n",
        "Most similar to (u'Multiwavelength active-optics Shack-Hartmann sensor for monitoring seeing and turbulence outer scale',) (2014A&A...572A..14M)\n",
        "\t(u'Spatial variation of the cooling lines in the reflection nebula NGC 7023',) (2015A&A...574A..97B)\n",
        "\tscore 0.096745\n"
       ]
      },
      {
       "output_type": "stream",
       "stream": "stdout",
       "text": [
        "\n",
        "Most similar to (u'First detection of CF<SUP>+</SUP> towards a high-mass protostar',) (2015A&A...574L...4F)\n",
        "\t(u'Consistent neutron star models with magnetic-field-dependent equations of state',) (2015MNRAS.447.3785C)\n",
        "\tscore 0.071700\n"
       ]
      },
      {
       "output_type": "stream",
       "stream": "stdout",
       "text": [
        "\n",
        "Most similar to (u'Update on H I data collection from Green Bank, Parkes and Arecibo telescopes for the Cosmic Flows project',) (2015MNRAS.447.1531C)\n",
        "\t(u'Thermal and Radiative Active Galactic Nucleus Feedback have a Limited Impact on Star Formation in High-redshift Galaxies',) (2015ApJ...800...19R)\n",
        "\tscore 0.313424\n"
       ]
      },
      {
       "output_type": "stream",
       "stream": "stdout",
       "text": [
        "\n",
        "Most similar to (u'Resonance capture at arbitrary inclination',) (2015MNRAS.446.1998N)\n",
        "\t(u\"Jet-induced star formation in 3C 285 and Minkowski's Object\",) (2015A&A...574A..34S)\n",
        "\tscore 0.204132\n"
       ]
      },
      {
       "output_type": "stream",
       "stream": "stdout",
       "text": [
        "\n",
        "Most similar to (u'Vortex cycles at the inner edges of dead zones in protoplanetary disks',) (2015A&A...573A.132F)\n",
        "\t(u'Cosmic shear full nulling: sorting out dynamics, geometry and systematics',) (2014MNRAS.445.1526B)\n",
        "\tscore 0.074309\n"
       ]
      },
      {
       "output_type": "stream",
       "stream": "stdout",
       "text": [
        "\n",
        "Most similar to (u'Detecting the integrated Sachs-Wolfe effect with stacked voids (Corrigendum)',) (2014A&A...572C...2I)\n",
        "\t(u'Spatial variation of the cooling lines in the reflection nebula NGC 7023',) (2015A&A...574A..97B)\n",
        "\tscore 0.165803\n"
       ]
      },
      {
       "output_type": "stream",
       "stream": "stdout",
       "text": [
        "\n",
        "Most similar to (u'Characterization of the four new transiting planets KOI-188b, KOI-195b, KOI-192b, and KOI-830b',) (2014A&A...572A..93H)\n",
        "\t(u'A ~6 Mpc overdensity at z \\u2243 2.7 detected along a pair of quasar sight lines: filament or protocluster?',) (2014A&A...572A..31F)\n",
        "\tscore 0.085626\n"
       ]
      },
      {
       "output_type": "stream",
       "stream": "stdout",
       "text": [
        "\n",
        "Most similar to (u'Polar-ring galaxies: the SDSS view on the symbiotic galaxies',) (2015MNRAS.447.2287R)\n",
        "\t(u'The Carlina-type diluted telescope. Stellar fringes on Deneb',) (2015A&A...573A.117L)\n",
        "\tscore 0.061901\n"
       ]
      },
      {
       "output_type": "stream",
       "stream": "stdout",
       "text": [
        "\n",
        "Most similar to (u'Performance of the VLT Planet Finder SPHERE. I. Photometry and astrometry precision with IRDIS and IFS in laboratory',) (2014A&A...572A..85Z)\n",
        "\t(u'Effect of geodetic precession on the evolution of pulsar high-energy pulse profiles as derived with the striped-wind model',) (2015A&A...574A..51P)\n",
        "\tscore 0.385342\n"
       ]
      },
      {
       "output_type": "stream",
       "stream": "stdout",
       "text": [
        "\n",
        "Most similar to (u'Light-element Nucleosynthesis in a Molecular Cloud Interacting with a Supernova Remnant and the Origin of Beryllium-10 in the Protosolar Nebula',) (2014ApJ...796..124T)\n",
        "\t(u'Search for sub-kilometre trans-Neptunian objects using CoRoT asteroseismology data',) (2015MNRAS.446..932L)\n",
        "\tscore 0.088848\n"
       ]
      },
      {
       "output_type": "stream",
       "stream": "stdout",
       "text": [
        "\n",
        "Most similar to (u'Fast molecular jet from L1157-mm',) (2015A&A...573L...2T)\n",
        "\t(u'The Carlina-type diluted telescope. Stellar fringes on Deneb',) (2015A&A...573A.117L)\n",
        "\tscore 0.059644\n"
       ]
      },
      {
       "output_type": "stream",
       "stream": "stdout",
       "text": [
        "\n",
        "Most similar to (u'Signatures of massive collisions in debris discs. A self-consistent numerical model',) (2015A&A...573A..39K)\n",
        "\t(u'Opacities and spectra of hydrogen atmospheres of moderately magnetized neutron stars',) (2014A&A...572A..69P)\n",
        "\tscore 0.072042\n"
       ]
      },
      {
       "output_type": "stream",
       "stream": "stdout",
       "text": [
        "\n",
        "Most similar to (u'Matrix-free large-scale Bayesian inference in cosmology',) (2015MNRAS.447.1204J)\n",
        "\t(u'Effect of primordial non-Gaussianities on the far-UV luminosity function of high-redshift galaxies: implications for cosmic reionization',) (2015MNRAS.446.3235C)\n",
        "\tscore 0.122867\n"
       ]
      },
      {
       "output_type": "stream",
       "stream": "stdout",
       "text": [
        "\n",
        "Most similar to (u'Non-linear mirror instability',) (2015MNRAS.447L..45R)\n",
        "\t(u'General solution for the vacuum electromagnetic field in the surroundings of a rotating star',) (2015A&A...573A..51B)\n",
        "\tscore 0.122769\n"
       ]
      },
      {
       "output_type": "stream",
       "stream": "stdout",
       "text": [
        "\n",
        "Most similar to (u'Are Ultra-long Gamma-Ray Bursts Different?',) (2015ApJ...800...16B)\n",
        "\t(u'A parsec-resolution simulation of the Antennae galaxies: formation of star clusters during the merger',) (2015MNRAS.446.2038R)\n",
        "\tscore 0.110579\n"
       ]
      },
      {
       "output_type": "stream",
       "stream": "stdout",
       "text": [
        "\n",
        "Most similar to (u'Radial dependence of line profile variability in seven O9-B0.5 stars',) (2015A&A...574A.142M)\n",
        "\t(u'Spectral properties of the largest asteroids associated with Taurid Complex',) (2014A&A...572A.106P)\n",
        "\tscore 0.182830\n"
       ]
      },
      {
       "output_type": "stream",
       "stream": "stdout",
       "text": [
        "\n",
        "Most similar to (u'Chemical modelling of water deuteration in IRAS16293-2422',) (2014MNRAS.445.2854W)\n",
        "\t(u'Opacities and spectra of hydrogen atmospheres of moderately magnetized neutron stars',) (2014A&A...572A..69P)\n",
        "\tscore 0.083528\n"
       ]
      },
      {
       "output_type": "stream",
       "stream": "stdout",
       "text": [
        "\n",
        "Most similar to (u'Swirling around filaments: are large-scale structure vortices spinning up dark haloes?',) (2015MNRAS.446.2744L)\n",
        "\t(u'Hyperfine excitation of CN by para- and ortho-H<SUB>2</SUB>',) (2015MNRAS.446L..21K)\n",
        "\tscore 0.223014\n"
       ]
      },
      {
       "output_type": "stream",
       "stream": "stdout",
       "text": [
        "\n",
        "Most similar to (u'Differential interferometry of QSO broad-line regions - I. Improving the reverberation mapping model fits and black hole mass estimates',) (2015MNRAS.447.2420R)\n",
        "\t(u'Opacities and spectra of hydrogen atmospheres of moderately magnetized neutron stars',) (2014A&A...572A..69P)\n",
        "\tscore 0.149278\n"
       ]
      },
      {
       "output_type": "stream",
       "stream": "stdout",
       "text": [
        "\n",
        "Most similar to (u'Experimental and Theoretical Analysis of Low-energy CO + H<SUB>2</SUB> Inelastic Collisions',) (2015ApJ...799L...9C)\n",
        "\t(u\"Jet-induced star formation in 3C 285 and Minkowski's Object\",) (2015A&A...574A..34S)\n",
        "\tscore 0.175082\n"
       ]
      },
      {
       "output_type": "stream",
       "stream": "stdout",
       "text": [
        "\n",
        "Most similar to (u'Insights on the dynamical history of the Fomalhaut system. Investigating the Fom c hypothesis',) (2015A&A...573A..87F)\n",
        "\t(u'General solution for the vacuum electromagnetic field in the surroundings of a rotating star',) (2015A&A...573A..51B)\n",
        "\tscore 0.272246\n"
       ]
      },
      {
       "output_type": "stream",
       "stream": "stdout",
       "text": [
        "\n",
        "Most similar to (u'Mass, velocity anisotropy, and pseudo phase-space density profiles of Abell 2142 (Corrigendum)',) (2015A&A...574C...1M)\n",
        "\t(u'A ~6 Mpc overdensity at z \\u2243 2.7 detected along a pair of quasar sight lines: filament or protocluster?',) (2014A&A...572A..31F)\n",
        "\tscore 0.313598\n"
       ]
      },
      {
       "output_type": "stream",
       "stream": "stdout",
       "text": [
        "\n",
        "Most similar to (u'One-dimensional non-LTE time-dependent radiative transfer of an He-detonation model and the connection to faint and fast-decaying supernovae',) (2015MNRAS.447.1370D)\n",
        "\t(u'Effect of geodetic precession on the evolution of pulsar high-energy pulse profiles as derived with the striped-wind model',) (2015A&A...574A..51P)\n",
        "\tscore 0.141843\n"
       ]
      },
      {
       "output_type": "stream",
       "stream": "stdout",
       "text": [
        "\n",
        "Most similar to (u'Depletion of chlorine into HCl ice in a protostellar core. The CHESS spectral survey of OMC-2 FIR 4',) (2015A&A...574A.107K)\n",
        "\t(u'Opacities and spectra of hydrogen atmospheres of moderately magnetized neutron stars',) (2014A&A...572A..69P)\n",
        "\tscore 0.177406\n"
       ]
      },
      {
       "output_type": "stream",
       "stream": "stdout",
       "text": [
        "\n",
        "Most similar to (u'The Effect of Magnetic Topology on Thermally Driven Wind: Toward a General Formulation of the Braking Law',) (2015ApJ...798..116R)\n",
        "\t(u'Water deuterium fractionation in the high-mass star-forming region G34.26+0.15 based on Herschel/HIFI data',) (2014MNRAS.445.1299C)\n",
        "\tscore 0.139480\n"
       ]
      },
      {
       "output_type": "stream",
       "stream": "stdout",
       "text": [
        "\n",
        "Most similar to (u'Testing primordial non-Gaussianities on galactic scales at high redshift',) (2014MNRAS.445L.129H)\n",
        "\t(u'Variable magnetic field geometry of the young sun HN Pegasi (HD 206860)',) (2015A&A...573A..17B)\n",
        "\tscore 0.102549\n"
       ]
      },
      {
       "output_type": "stream",
       "stream": "stdout",
       "text": [
        "\n",
        "Most similar to (u'Dust properties inside molecular clouds from coreshine modeling and observations',) (2014A&A...572A..20L)\n",
        "\t(u'How can double-barred galaxies be long-lived?',) (2015A&A...575A...7W)\n",
        "\tscore 0.127928\n"
       ]
      },
      {
       "output_type": "stream",
       "stream": "stdout",
       "text": [
        "\n",
        "Most similar to (u'Hyperfine excitation of N<SUB>2</SUB>H<SUP>+</SUP> by H<SUB>2</SUB>: towards a revision of N<SUB>2</SUB>H<SUP>+</SUP> abundance in cold molecular clouds',) (2015MNRAS.446.1245L)\n",
        "\t(u'Can we trace very cold dust from its emission alone?',) (2015A&A...574L...5P)\n",
        "\tscore 0.246964\n"
       ]
      },
      {
       "output_type": "stream",
       "stream": "stdout",
       "text": [
        "\n",
        "Most similar to (u'A ~6 Mpc overdensity at z \\u2243 2.7 detected along a pair of quasar sight lines: filament or protocluster?',) (2014A&A...572A..31F)\n",
        "\t(u'Mass, velocity anisotropy, and pseudo phase-space density profiles of Abell 2142 (Corrigendum)',) (2015A&A...574C...1M)\n",
        "\tscore 0.313598\n"
       ]
      },
      {
       "output_type": "stream",
       "stream": "stdout",
       "text": [
        "\n",
        "Most similar to (u\"The evolution of infalling sulfur species in Titan's atmosphere\",) (2014A&A...572A..58H)\n",
        "\t(u'Radial dependence of line profile variability in seven O9-B0.5 stars',) (2015A&A...574A.142M)\n",
        "\tscore 0.116126\n"
       ]
      },
      {
       "output_type": "stream",
       "stream": "stdout",
       "text": [
        "\n",
        "Most similar to (u'Water deuterium fractionation in the high-mass star-forming region G34.26+0.15 based on Herschel/HIFI data',) (2014MNRAS.445.1299C)\n",
        "\t(u'The Effect of Magnetic Topology on Thermally Driven Wind: Toward a General Formulation of the Braking Law',) (2015ApJ...798..116R)\n",
        "\tscore 0.139480\n"
       ]
      },
      {
       "output_type": "stream",
       "stream": "stdout",
       "text": [
        "\n",
        "Most similar to (u'Benchmark stars for Gaia Fundamental properties of the Population II star HD 140283 from interferometric, spectroscopic, and photometric data',) (2015A&A...575A..26C)\n",
        "\t(u'Can we explain atypical solar flares?',) (2015A&A...574A..37D)\n",
        "\tscore 0.153023\n"
       ]
      },
      {
       "output_type": "stream",
       "stream": "stdout",
       "text": [
        "\n",
        "Most similar to (u'Collisional excitation of water by hydrogen atoms',) (2015MNRAS.446.2312D)\n",
        "\t(u'Matter power spectrum covariance matrix from the DEUS-PUR \\u039bCDM simulations: mass resolution and non-Gaussian errors',) (2015MNRAS.446.1756B)\n",
        "\tscore 1.000000\n"
       ]
      },
      {
       "output_type": "stream",
       "stream": "stdout",
       "text": [
        "\n",
        "Most similar to (u'Matter power spectrum covariance matrix from the DEUS-PUR \\u039bCDM simulations: mass resolution and non-Gaussian errors',) (2015MNRAS.446.1756B)\n",
        "\t(u'Collisional excitation of water by hydrogen atoms',) (2015MNRAS.446.2312D)\n",
        "\tscore 1.000000\n"
       ]
      },
      {
       "output_type": "stream",
       "stream": "stdout",
       "text": [
        "\n",
        "Most similar to (u'The Carlina-type diluted telescope. Stellar fringes on Deneb',) (2015A&A...573A.117L)\n",
        "\t(u'Thermal and Radiative Active Galactic Nucleus Feedback have a Limited Impact on Star Formation in High-redshift Galaxies',) (2015ApJ...800...19R)\n",
        "\tscore 0.211123\n"
       ]
      },
      {
       "output_type": "stream",
       "stream": "stdout",
       "text": [
        "\n",
        "Most similar to (u'Study of the X-ray activity of <ASTROBJ>Sagittarius A*</ASTROBJ> during the 2011 XMM-Newton campaign',) (2015A&A...573A..46M)\n",
        "\t(u'Maximum tension: with and without a cosmological constant',) (2015MNRAS.446.3874B)\n",
        "\tscore 0.163991\n"
       ]
      },
      {
       "output_type": "stream",
       "stream": "stdout",
       "text": [
        "\n",
        "Most similar to (u'SOPHIE velocimetry of Kepler transit candidates. XIV. A joint photometric, spectroscopic, and dynamical analysis of the Kepler-117 system',) (2015A&A...573A.124B)\n",
        "\t(u'Can we trace very cold dust from its emission alone?',) (2015A&A...574L...5P)\n",
        "\tscore 0.106612\n"
       ]
      },
      {
       "output_type": "stream",
       "stream": "stdout",
       "text": [
        "\n",
        "Most similar to (u'The VLTI/PIONIER near-infrared interferometric survey of southern T Tauri stars. I. First results',) (2015A&A...574A..41A)\n",
        "\t(u'Dynamics of the envelope of a rapidly rotating star or giant planet in gravitational contraction',) (2014A&A...572A..15H)\n",
        "\tscore 0.155733\n"
       ]
      },
      {
       "output_type": "stream",
       "stream": "stdout",
       "text": [
        "\n",
        "Most similar to (u'The Mg i line: a new probe of the atmospheres of evaporating exoplanets',) (2015A&A...573A..11B)\n",
        "\t(u'Insights on the dynamical history of the Fomalhaut system. Investigating the Fom c hypothesis',) (2015A&A...573A..87F)\n",
        "\tscore 0.104643\n"
       ]
      },
      {
       "output_type": "stream",
       "stream": "stdout",
       "text": [
        "\n",
        "Most similar to (u'Internal shocks driven by accretion flow variability in the compact jet of the black hole binary GX 339-4',) (2015MNRAS.447.3832D)\n",
        "\t(u'Theoretical power spectra of mixed modes in low-mass red giant stars',) (2014A&A...572A..11G)\n",
        "\tscore 0.215577\n"
       ]
      },
      {
       "output_type": "stream",
       "stream": "stdout",
       "text": [
        "\n",
        "Most similar to (u'Resolving the Bright HCN(1-0) Emission toward the Seyfert 2 Nucleus of M51: Shock Enhancement by Radio Jets and Weak Masing by Infrared Pumping?',) (2015ApJ...799...26M)\n",
        "\t(u'Variations of the Stellar Initial Mass Function in the Progenitors of Massive Early-type Galaxies and in Extreme Starburst Environments',) (2014ApJ...796...75C)\n",
        "\tscore 0.495248\n"
       ]
      },
      {
       "output_type": "stream",
       "stream": "stdout",
       "text": [
        "\n",
        "Most similar to (u'Sample of optically unidentified X-ray binaries in the Galactic bulge: constraints on the physical nature from infrared photometric surveys',) (2015MNRAS.446.2418Z)\n",
        "\t(u'Collisional excitation of water by hydrogen atoms',) (2015MNRAS.446.2312D)\n",
        "\tscore 1.000000\n"
       ]
      },
      {
       "output_type": "stream",
       "stream": "stdout",
       "text": [
        "\n",
        "Most similar to (u'General solution for the vacuum electromagnetic field in the surroundings of a rotating star',) (2015A&A...573A..51B)\n",
        "\t(u'Insights on the dynamical history of the Fomalhaut system. Investigating the Fom c hypothesis',) (2015A&A...573A..87F)\n",
        "\tscore 0.272246\n"
       ]
      },
      {
       "output_type": "stream",
       "stream": "stdout",
       "text": [
        "\n",
        "Most similar to (u'A parsec-resolution simulation of the Antennae galaxies: formation of star clusters during the merger',) (2015MNRAS.446.2038R)\n",
        "\t(u'Are Ultra-long Gamma-Ray Bursts Different?',) (2015ApJ...800...16B)\n",
        "\tscore 0.110579\n"
       ]
      },
      {
       "output_type": "stream",
       "stream": "stdout",
       "text": [
        "\n",
        "Most similar to (u'Modeling and predicting the shape of the far-infrared to submillimeter emission in ultra-compact HII regions and cold clumps',) (2014A&A...572A..37P)\n",
        "\t(u'Dust properties inside molecular clouds from coreshine modeling and observations',) (2014A&A...572A..20L)\n",
        "\tscore 0.087735\n"
       ]
      },
      {
       "output_type": "stream",
       "stream": "stdout",
       "text": [
        "\n",
        "Most similar to (u'Cold gas in group-dominant elliptical galaxies',) (2015A&A...573A.111O)\n",
        "\t(u'New Constraints on the Faint End of the UV Luminosity Function at z ~ 7-8 Using the Gravitational Lensing of the Hubble Frontier Fields Cluster A2744',) (2015ApJ...800...18A)\n",
        "\tscore 0.370409\n"
       ]
      },
      {
       "output_type": "stream",
       "stream": "stdout",
       "text": [
        "\n",
        "Most similar to (u'H I study of the environment around ESO 243-49, the host galaxy of an intermediate-mass black hole',) (2015MNRAS.447.1951M)\n",
        "\t(u'Herschel Observations of Dust around the High-mass X-Ray Binary GX 301-2',) (2014ApJ...797..114S)\n",
        "\tscore 0.092033\n"
       ]
      },
      {
       "output_type": "stream",
       "stream": "stdout",
       "text": [
        "\n",
        "Most similar to (u'Transiting exoplanets and magnetic spots characterized with optical interferometry',) (2015A&A...574A..69L)\n",
        "\t(u'On the radio properties of the intermediate-mass black hole candidate ESO 243-49 HLX-1',) (2015MNRAS.446.3268C)\n",
        "\tscore 0.134656\n"
       ]
      },
      {
       "output_type": "stream",
       "stream": "stdout",
       "text": [
        "\n",
        "Most similar to (u'A Simple Technique for Predicting High-redshift Galaxy Evolution',) (2015ApJ...799...32B)\n",
        "\t(u'Variations of the Stellar Initial Mass Function in the Progenitors of Massive Early-type Galaxies and in Extreme Starburst Environments',) (2014ApJ...796...75C)\n",
        "\tscore 0.416625\n"
       ]
      },
      {
       "output_type": "stream",
       "stream": "stdout",
       "text": [
        "\n",
        "Most similar to (u'<ASTROBJ>A resolved, au-scale gas disk around the B[e] star HD 50138</ASTROBJ>',) (2015A&A...573A..77E)\n",
        "\t(u'A hadronic origin for ultra-high-frequency-peaked BL Lac objects',) (2015MNRAS.448..910C)\n",
        "\tscore 0.109111\n"
       ]
      },
      {
       "output_type": "stream",
       "stream": "stdout",
       "text": [
        "\n",
        "Most similar to (u'Saturn\\u02bcs Inner Satellites: Orbits, Masses, and the Chaotic Motion of Atlas from New Cassini Imaging Observations',) (2015AJ....149...27C)\n",
        "\t(u'Properties of the CO and H<SUB>2</SUB>O MOLsphere of the red supergiant Betelgeuse from VLTI/AMBER observations',) (2014A&A...572A..17M)\n",
        "\tscore 0.199619\n"
       ]
      },
      {
       "output_type": "stream",
       "stream": "stdout",
       "text": [
        "\n",
        "Most similar to (u'A hadronic origin for ultra-high-frequency-peaked BL Lac objects',) (2015MNRAS.448..910C)\n",
        "\t(u'Effect of geodetic precession on the evolution of pulsar high-energy pulse profiles as derived with the striped-wind model',) (2015A&A...574A..51P)\n",
        "\tscore 0.140169\n"
       ]
      },
      {
       "output_type": "stream",
       "stream": "stdout",
       "text": [
        "\n",
        "Most similar to (u'Can we explain atypical solar flares?',) (2015A&A...574A..37D)\n",
        "\t(u'The SS433 jet from subparsec to parsec scales',) (2015A&A...574A.143M)\n",
        "\tscore 0.178474\n"
       ]
      },
      {
       "output_type": "stream",
       "stream": "stdout",
       "text": [
        "\n",
        "Most similar to (u'General relativistic monopole magnetosphere of neutron stars: a pseudo-spectral discontinuous Galerkin approach',) (2015MNRAS.447.3170P)\n",
        "\t(u'Spatial variation of the cooling lines in the reflection nebula NGC 7023',) (2015A&A...574A..97B)\n",
        "\tscore 0.090218\n"
       ]
      },
      {
       "output_type": "stream",
       "stream": "stdout",
       "text": [
        "\n",
        "Most similar to (u'Thermal and Radiative Active Galactic Nucleus Feedback have a Limited Impact on Star Formation in High-redshift Galaxies',) (2015ApJ...800...19R)\n",
        "\t(u'Update on H I data collection from Green Bank, Parkes and Arecibo telescopes for the Cosmic Flows project',) (2015MNRAS.447.1531C)\n",
        "\tscore 0.313424\n"
       ]
      },
      {
       "output_type": "stream",
       "stream": "stdout",
       "text": [
        "\n",
        "Most similar to (u'On the radio properties of the intermediate-mass black hole candidate ESO 243-49 HLX-1',) (2015MNRAS.446.3268C)\n",
        "\t(u'Resolving the Bright HCN(1-0) Emission toward the Seyfert 2 Nucleus of M51: Shock Enhancement by Radio Jets and Weak Masing by Infrared Pumping?',) (2015ApJ...799...26M)\n",
        "\tscore 0.430335\n"
       ]
      },
      {
       "output_type": "stream",
       "stream": "stdout",
       "text": [
        "\n",
        "Most similar to (u'Pulsar-black hole binaries: prospects for new gravity tests with future radio telescopes',) (2014MNRAS.445.3115L)\n",
        "\t(u'Maximum tension: with and without a cosmological constant',) (2015MNRAS.446.3874B)\n",
        "\tscore 0.168429\n"
       ]
      },
      {
       "output_type": "stream",
       "stream": "stdout",
       "text": [
        "\n",
        "Most similar to (u'Exceptional AGN-driven turbulence inhibits star formation in the 3C 326N radio galaxy',) (2015A&A...574A..32G)\n",
        "\t(u'Maximum tension: with and without a cosmological constant',) (2015MNRAS.446.3874B)\n",
        "\tscore 0.054947\n"
       ]
      },
      {
       "output_type": "stream",
       "stream": "stdout",
       "text": [
        "\n",
        "Most similar to (u'New Constraints on the Faint End of the UV Luminosity Function at z ~ 7-8 Using the Gravitational Lensing of the Hubble Frontier Fields Cluster A2744',) (2015ApJ...800...18A)\n",
        "\t(u'Cold gas in group-dominant elliptical galaxies',) (2015A&A...573A.111O)\n",
        "\tscore 0.370409\n"
       ]
      },
      {
       "output_type": "stream",
       "stream": "stdout",
       "text": [
        "\n",
        "Most similar to (u'Masses of the components of SB2 binaries observed with Gaia - I. Selection of the sample and mass ratios of 20 new SB2s discovered with Sophie',) (2014MNRAS.445.2371H)\n",
        "\t(u'On the radio properties of the intermediate-mass black hole candidate ESO 243-49 HLX-1',) (2015MNRAS.446.3268C)\n",
        "\tscore 0.073310\n"
       ]
      },
      {
       "output_type": "stream",
       "stream": "stdout",
       "text": [
        "\n",
        "Most similar to (u'The SS433 jet from subparsec to parsec scales',) (2015A&A...574A.143M)\n",
        "\t(u'Opacities and spectra of hydrogen atmospheres of moderately magnetized neutron stars',) (2014A&A...572A..69P)\n",
        "\tscore 0.225495\n"
       ]
      },
      {
       "output_type": "stream",
       "stream": "stdout",
       "text": [
        "\n",
        "Most similar to (u'Detecting dark matter substructures around the Milky Way with Gaia',) (2015MNRAS.446.1000F)\n",
        "\t(u'Search for sub-kilometre trans-Neptunian objects using CoRoT asteroseismology data',) (2015MNRAS.446..932L)\n",
        "\tscore 0.453584\n"
       ]
      },
      {
       "output_type": "stream",
       "stream": "stdout",
       "text": [
        "\n",
        "Most similar to (u'Modelling complex organic molecules in dense regions: Eley-Rideal and complex induced reaction',) (2015MNRAS.447.4004R)\n",
        "\t(u'Accelerating the cosmic microwave background map-making procedure through preconditioning',) (2014A&A...572A..39S)\n",
        "\tscore 0.170538\n"
       ]
      },
      {
       "output_type": "stream",
       "stream": "stdout",
       "text": [
        "\n",
        "Most similar to (u'Theoretical power spectra of mixed modes in low-mass red giant stars',) (2014A&A...572A..11G)\n",
        "\t(u'Internal shocks driven by accretion flow variability in the compact jet of the black hole binary GX 339-4',) (2015MNRAS.447.3832D)\n",
        "\tscore 0.215577\n"
       ]
      },
      {
       "output_type": "stream",
       "stream": "stdout",
       "text": [
        "\n",
        "Most similar to (u'The life and death of cosmic voids',) (2014MNRAS.445.1235S)\n",
        "\t(u'Chemical abundances of M giants in the Galactic centre: A single metal-rich population with low [\\u03b1/Fe]',) (2015A&A...573A..14R)\n",
        "\tscore 0.157198\n"
       ]
      },
      {
       "output_type": "stream",
       "stream": "stdout",
       "text": [
        "\n",
        "Most similar to (u'Evolution of angular-momentum-losing exoplanetary systems. Revisiting Darwin stability',) (2015A&A...574A..39D)\n",
        "\t(u'Resolving the Bright HCN(1-0) Emission toward the Seyfert 2 Nucleus of M51: Shock Enhancement by Radio Jets and Weak Masing by Infrared Pumping?',) (2015ApJ...799...26M)\n",
        "\tscore 0.294067\n"
       ]
      },
      {
       "output_type": "stream",
       "stream": "stdout",
       "text": [
        "\n",
        "Most similar to (u'Revisiting Coincidence Rate between Gravitational Wave Detection and Short Gamma-Ray Burst for the Advanced and Third Generation',) (2015ApJ...799...69R)\n",
        "\t(u'Pulsar-black hole binaries: prospects for new gravity tests with future radio telescopes',) (2014MNRAS.445.3115L)\n",
        "\tscore 0.058402\n"
       ]
      },
      {
       "output_type": "stream",
       "stream": "stdout",
       "text": [
        "\n",
        "Most similar to (u'Dynamics of the envelope of a rapidly rotating star or giant planet in gravitational contraction',) (2014A&A...572A..15H)\n",
        "\t(u'The SS433 jet from subparsec to parsec scales',) (2015A&A...574A.143M)\n",
        "\tscore 0.172664\n"
       ]
      },
      {
       "output_type": "stream",
       "stream": "stdout",
       "text": [
        "\n",
        "Most similar to (u'Effect of primordial non-Gaussianities on the far-UV luminosity function of high-redshift galaxies: implications for cosmic reionization',) (2015MNRAS.446.3235C)\n",
        "\t(u'Matrix-free large-scale Bayesian inference in cosmology',) (2015MNRAS.447.1204J)\n",
        "\tscore 0.122867\n"
       ]
      },
      {
       "output_type": "stream",
       "stream": "stdout",
       "text": [
        "\n",
        "Most similar to (u'[C II] absorption and emission in the diffuse interstellar medium across the Galactic plane',) (2015A&A...573A..30G)\n",
        "\t(u'Cassini ISS mutual event astrometry of the mid-sized Saturnian satellites 2005-2012',) (2014A&A...572A..43C)\n",
        "\tscore 0.148762\n"
       ]
      },
      {
       "output_type": "stream",
       "stream": "stdout",
       "text": [
        "\n",
        "Most similar to (u'Search for sub-kilometre trans-Neptunian objects using CoRoT asteroseismology data',) (2015MNRAS.446..932L)\n",
        "\t(u'Detecting dark matter substructures around the Milky Way with Gaia',) (2015MNRAS.446.1000F)\n",
        "\tscore 0.453584\n"
       ]
      },
      {
       "output_type": "stream",
       "stream": "stdout",
       "text": [
        "\n",
        "Most similar to (u'A Complete Spectroscopic Characterization of SO and its Isotopologues up to the Terahertz Domain',) (2015ApJ...799..115M)\n",
        "\t(u'Water deuterium fractionation in the high-mass star-forming region G34.26+0.15 based on Herschel/HIFI data',) (2014MNRAS.445.1299C)\n",
        "\tscore 0.131315\n"
       ]
      },
      {
       "output_type": "stream",
       "stream": "stdout",
       "text": [
        "\n",
        "Most similar to (u'How can double-barred galaxies be long-lived?',) (2015A&A...575A...7W)\n",
        "\t(u'Chemical abundances of M giants in the Galactic centre: A single metal-rich population with low [\\u03b1/Fe]',) (2015A&A...573A..14R)\n",
        "\tscore 0.129319\n"
       ]
      },
      {
       "output_type": "stream",
       "stream": "stdout",
       "text": [
        "\n",
        "Most similar to (u'Baryonic and dark matter distribution in cosmological simulations of spiral galaxies',) (2015MNRAS.447.1353M)\n",
        "\t(u'Can we trace very cold dust from its emission alone?',) (2015A&A...574L...5P)\n",
        "\tscore 0.173688\n"
       ]
      },
      {
       "output_type": "stream",
       "stream": "stdout",
       "text": [
        "\n",
        "Most similar to (u'The impact of star formation and gamma-ray burst rates at high redshift on cosmic chemical evolution and reionization',) (2015MNRAS.447.2575V)\n",
        "\t(u'Study of the X-ray activity of <ASTROBJ>Sagittarius A*</ASTROBJ> during the 2011 XMM-Newton campaign',) (2015A&A...573A..46M)\n",
        "\tscore 0.057480\n"
       ]
      },
      {
       "output_type": "stream",
       "stream": "stdout",
       "text": [
        "\n",
        "Most similar to (u'Hot super-Earths and giant planet cores from different migration histories Corrigendum',) (2014A&A...572C...1C)\n",
        "\t(u'Performance of the VLT Planet Finder SPHERE. I. Photometry and astrometry precision with IRDIS and IFS in laboratory',) (2014A&A...572A..85Z)\n",
        "\tscore 0.292451\n"
       ]
      },
      {
       "output_type": "stream",
       "stream": "stdout",
       "text": [
        "\n",
        "Most similar to (u'SOPHIE velocimetry of Kepler transit candidates. XIII. KOI-189 b and KOI-686 b: two very low-mass stars in long-period orbits',) (2014A&A...572A.109D)\n",
        "\t(u'A non-grey analytical model for irradiated atmospheres. II. Analytical vs. numerical solutions',) (2015A&A...574A..35P)\n",
        "\tscore 0.133592\n"
       ]
      },
      {
       "output_type": "stream",
       "stream": "stdout",
       "text": [
        "\n",
        "Most similar to (u'Spatial variation of the cooling lines in the reflection nebula NGC 7023',) (2015A&A...574A..97B)\n",
        "\t(u'Hot super-Earths and giant planet cores from different migration histories Corrigendum',) (2014A&A...572C...1C)\n",
        "\tscore 0.177581\n"
       ]
      },
      {
       "output_type": "stream",
       "stream": "stdout",
       "text": [
        "\n",
        "Most similar to (u'Properties of the CO and H<SUB>2</SUB>O MOLsphere of the red supergiant Betelgeuse from VLTI/AMBER observations',) (2014A&A...572A..17M)\n",
        "\t(u'Short-term variability on the surface of (1) Ceres\\u22c6. A changing amount of water ice?',) (2015A&A...575L...1P)\n",
        "\tscore 0.265203\n"
       ]
      },
      {
       "output_type": "stream",
       "stream": "stdout",
       "text": [
        "\n",
        "Most similar to (u'Departure from centrosymmetry of red giants and supergiants measured with VLTI/AMBER',) (2015MNRAS.446.3277C)\n",
        "\t(u'Accelerating the cosmic microwave background map-making procedure through preconditioning',) (2014A&A...572A..39S)\n",
        "\tscore 0.163994\n"
       ]
      },
      {
       "output_type": "stream",
       "stream": "stdout",
       "text": [
        "\n",
        "Most similar to (u'Polarization measurement analysis. I. Impact of the full covariance matrix on polarization fraction and angle measurements',) (2015A&A...574A.135M)\n",
        "\t(u'Resolving the Bright HCN(1-0) Emission toward the Seyfert 2 Nucleus of M51: Shock Enhancement by Radio Jets and Weak Masing by Infrared Pumping?',) (2015ApJ...799...26M)\n",
        "\tscore 0.158517\n"
       ]
      },
      {
       "output_type": "stream",
       "stream": "stdout",
       "text": [
        "\n",
        "Most similar to (u'Can we trace very cold dust from its emission alone?',) (2015A&A...574L...5P)\n",
        "\t(u'Hyperfine excitation of N<SUB>2</SUB>H<SUP>+</SUP> by H<SUB>2</SUB>: towards a revision of N<SUB>2</SUB>H<SUP>+</SUP> abundance in cold molecular clouds',) (2015MNRAS.446.1245L)\n",
        "\tscore 0.246964\n"
       ]
      },
      {
       "output_type": "stream",
       "stream": "stdout",
       "text": [
        "\n",
        "Most similar to (u'A correlation between hard gamma-ray sources and cosmic voids along the line of sight',) (2015MNRAS.446.2267F)\n",
        "\t(u'The Mass-dependence of Angular Momentum Evolution in Sun-like Stars',) (2015ApJ...799L..23M)\n",
        "\tscore 0.186237\n"
       ]
      },
      {
       "output_type": "stream",
       "stream": "stdout",
       "text": [
        "\n",
        "Most similar to (u'Consistent neutron star models with magnetic-field-dependent equations of state',) (2015MNRAS.447.3785C)\n",
        "\t(u'Stochastic Description of the High-frequency Content of Daily Sunspots and Evidence for Regime Changes',) (2015ApJ...799...56S)\n",
        "\tscore 0.106291\n"
       ]
      },
      {
       "output_type": "stream",
       "stream": "stdout",
       "text": [
        "\n",
        "Most similar to (u'Shell instability of a collapsing dense core',) (2015A&A...574A.130N)\n",
        "\t(u'Dust properties inside molecular clouds from coreshine modeling and observations',) (2014A&A...572A..20L)\n",
        "\tscore 0.125697\n"
       ]
      },
      {
       "output_type": "stream",
       "stream": "stdout",
       "text": [
        "\n",
        "Most similar to (u'On the observability of coupled dark energy with cosmic voids',) (2015MNRAS.446L...1S)\n",
        "\t(u'The Mass-dependence of Angular Momentum Evolution in Sun-like Stars',) (2015ApJ...799L..23M)\n",
        "\tscore 0.207000\n"
       ]
      },
      {
       "output_type": "stream",
       "stream": "stdout",
       "text": [
        "\n",
        "Most similar to (u'Hyperfine excitation of CN by para- and ortho-H<SUB>2</SUB>',) (2015MNRAS.446L..21K)\n",
        "\t(u'The C IV forest as a probe of baryon acoustic oscillations',) (2014MNRAS.445L.104P)\n",
        "\tscore 0.280511\n"
       ]
      },
      {
       "output_type": "stream",
       "stream": "stdout",
       "text": [
        "\n",
        "Most similar to (u'A non-grey analytical model for irradiated atmospheres. II. Analytical vs. numerical solutions',) (2015A&A...574A..35P)\n",
        "\t(u'Chemical abundances of M giants in the Galactic centre: A single metal-rich population with low [\\u03b1/Fe]',) (2015A&A...573A..14R)\n",
        "\tscore 0.177204\n"
       ]
      },
      {
       "output_type": "stream",
       "stream": "stdout",
       "text": [
        "\n",
        "Most similar to (u'Excitation of the hyperfine levels of <SUP>13</SUP>CN and C<SUP>15</SUP>N in collisions with H<SUB>2</SUB> at low temperatures',) (2015MNRAS.446.1750F)\n",
        "\t(u'The Mass-dependence of Angular Momentum Evolution in Sun-like Stars',) (2015ApJ...799L..23M)\n",
        "\tscore 0.454822\n"
       ]
      },
      {
       "output_type": "stream",
       "stream": "stdout",
       "text": [
        "\n"
       ]
      }
     ],
     "prompt_number": 7
    },
    {
     "cell_type": "code",
     "collapsed": false,
     "input": [],
     "language": "python",
     "metadata": {},
     "outputs": []
    }
   ],
   "metadata": {}
  }
 ]
}